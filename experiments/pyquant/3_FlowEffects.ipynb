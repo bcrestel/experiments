{
 "cells": [
  {
   "cell_type": "markdown",
   "id": "0b7f6187",
   "metadata": {},
   "source": [
    "This code downloads historical stock data for TLT, computes log returns, and analyzes mean returns by calendar day of the month. It visualizes these mean returns to identify any calendar effects. The code also simulates a simple trading strategy of buying near month-end and selling at month-start. It evaluates the strategy's performance by aggregating and plotting returns over time. This analysis helps in identifying potential trading opportunities based on calendar effects."
   ]
  },
  {
   "cell_type": "code",
   "execution_count": 1,
   "id": "dedc70c1-d7ca-4daa-802b-42b5430ec50f",
   "metadata": {
    "execution": {
     "iopub.execute_input": "2025-05-09T19:23:18.926696Z",
     "iopub.status.busy": "2025-05-09T19:23:18.924497Z",
     "iopub.status.idle": "2025-05-09T19:23:20.921903Z",
     "shell.execute_reply": "2025-05-09T19:23:20.920614Z",
     "shell.execute_reply.started": "2025-05-09T19:23:18.926661Z"
    },
    "scrolled": true
   },
   "outputs": [
    {
     "name": "stdout",
     "output_type": "stream",
     "text": [
      "Requirement already satisfied: yfinance in /usr/local/lib/python3.11/site-packages (0.2.59)\n",
      "Requirement already satisfied: pandas>=1.3.0 in /usr/local/lib/python3.11/site-packages (from yfinance) (2.2.3)\n",
      "Requirement already satisfied: numpy>=1.16.5 in /usr/local/lib/python3.11/site-packages (from yfinance) (2.2.4)\n",
      "Requirement already satisfied: requests>=2.31 in /usr/local/lib/python3.11/site-packages (from yfinance) (2.32.3)\n",
      "Requirement already satisfied: multitasking>=0.0.7 in /usr/local/lib/python3.11/site-packages (from yfinance) (0.0.11)\n",
      "Requirement already satisfied: platformdirs>=2.0.0 in /usr/local/lib/python3.11/site-packages (from yfinance) (4.3.7)\n",
      "Requirement already satisfied: pytz>=2022.5 in /usr/local/lib/python3.11/site-packages (from yfinance) (2025.2)\n",
      "Requirement already satisfied: frozendict>=2.3.4 in /usr/local/lib/python3.11/site-packages (from yfinance) (2.4.6)\n",
      "Requirement already satisfied: peewee>=3.16.2 in /usr/local/lib/python3.11/site-packages (from yfinance) (3.18.1)\n",
      "Requirement already satisfied: beautifulsoup4>=4.11.1 in /usr/local/lib/python3.11/site-packages (from yfinance) (4.13.3)\n",
      "Requirement already satisfied: curl_cffi>=0.7 in /usr/local/lib/python3.11/site-packages (from yfinance) (0.10.0)\n",
      "Requirement already satisfied: protobuf<6,>=5.29.0 in /usr/local/lib/python3.11/site-packages (from yfinance) (5.29.4)\n",
      "Requirement already satisfied: websockets>=11.0 in /usr/local/lib/python3.11/site-packages (from yfinance) (15.0.1)\n",
      "Requirement already satisfied: soupsieve>1.2 in /usr/local/lib/python3.11/site-packages (from beautifulsoup4>=4.11.1->yfinance) (2.6)\n",
      "Requirement already satisfied: typing-extensions>=4.0.0 in /usr/local/lib/python3.11/site-packages (from beautifulsoup4>=4.11.1->yfinance) (4.13.0)\n",
      "Requirement already satisfied: cffi>=1.12.0 in /usr/local/lib/python3.11/site-packages (from curl_cffi>=0.7->yfinance) (1.17.1)\n",
      "Requirement already satisfied: certifi>=2024.2.2 in /usr/local/lib/python3.11/site-packages (from curl_cffi>=0.7->yfinance) (2025.1.31)\n",
      "Requirement already satisfied: python-dateutil>=2.8.2 in /usr/local/lib/python3.11/site-packages (from pandas>=1.3.0->yfinance) (2.9.0.post0)\n",
      "Requirement already satisfied: tzdata>=2022.7 in /usr/local/lib/python3.11/site-packages (from pandas>=1.3.0->yfinance) (2025.2)\n",
      "Requirement already satisfied: charset-normalizer<4,>=2 in /usr/local/lib/python3.11/site-packages (from requests>=2.31->yfinance) (3.4.1)\n",
      "Requirement already satisfied: idna<4,>=2.5 in /usr/local/lib/python3.11/site-packages (from requests>=2.31->yfinance) (3.10)\n",
      "Requirement already satisfied: urllib3<3,>=1.21.1 in /usr/local/lib/python3.11/site-packages (from requests>=2.31->yfinance) (2.3.0)\n",
      "Requirement already satisfied: pycparser in /usr/local/lib/python3.11/site-packages (from cffi>=1.12.0->curl_cffi>=0.7->yfinance) (2.22)\n",
      "Requirement already satisfied: six>=1.5 in /usr/local/lib/python3.11/site-packages (from python-dateutil>=2.8.2->pandas>=1.3.0->yfinance) (1.17.0)\n",
      "\u001b[33mWARNING: Running pip as the 'root' user can result in broken permissions and conflicting behaviour with the system package manager. It is recommended to use a virtual environment instead: https://pip.pypa.io/warnings/venv\u001b[0m\u001b[33m\n",
      "\u001b[0m\n",
      "\u001b[1m[\u001b[0m\u001b[34;49mnotice\u001b[0m\u001b[1;39;49m]\u001b[0m\u001b[39;49m A new release of pip is available: \u001b[0m\u001b[31;49m24.0\u001b[0m\u001b[39;49m -> \u001b[0m\u001b[32;49m25.1.1\u001b[0m\n",
      "\u001b[1m[\u001b[0m\u001b[34;49mnotice\u001b[0m\u001b[1;39;49m]\u001b[0m\u001b[39;49m To update, run: \u001b[0m\u001b[32;49mpip install --upgrade pip\u001b[0m\n"
     ]
    }
   ],
   "source": [
    "!pip install yfinance"
   ]
  },
  {
   "cell_type": "code",
   "execution_count": 2,
   "id": "d7817a7b",
   "metadata": {
    "execution": {
     "iopub.execute_input": "2025-05-09T19:23:20.925403Z",
     "iopub.status.busy": "2025-05-09T19:23:20.924231Z",
     "iopub.status.idle": "2025-05-09T19:23:21.434627Z",
     "shell.execute_reply": "2025-05-09T19:23:21.433326Z",
     "shell.execute_reply.started": "2025-05-09T19:23:20.925364Z"
    }
   },
   "outputs": [],
   "source": [
    "import pandas as pd\n",
    "import numpy as np\n",
    "import yfinance as yf"
   ]
  },
  {
   "cell_type": "markdown",
   "id": "58832881",
   "metadata": {},
   "source": [
    "Download historical stock data for TLT from Yahoo Finance"
   ]
  },
  {
   "cell_type": "code",
   "execution_count": 3,
   "id": "8181d627",
   "metadata": {
    "execution": {
     "iopub.execute_input": "2025-05-09T19:23:21.435784Z",
     "iopub.status.busy": "2025-05-09T19:23:21.435435Z",
     "iopub.status.idle": "2025-05-09T19:23:22.192484Z",
     "shell.execute_reply": "2025-05-09T19:23:22.191589Z",
     "shell.execute_reply.started": "2025-05-09T19:23:21.435764Z"
    }
   },
   "outputs": [
    {
     "name": "stdout",
     "output_type": "stream",
     "text": [
      "YF.download() has changed argument auto_adjust default to True\n"
     ]
    },
    {
     "name": "stderr",
     "output_type": "stream",
     "text": [
      "[*********************100%***********************]  1 of 1 completed\n"
     ]
    }
   ],
   "source": [
    "tlt = yf.download(\"TLT\", start=\"2002-01-01\", end=\"2025-04-30\")"
   ]
  },
  {
   "cell_type": "code",
   "execution_count": 4,
   "id": "c8ebb890-5ff7-427a-bc37-9080e926a070",
   "metadata": {
    "execution": {
     "iopub.execute_input": "2025-05-09T19:23:22.193525Z",
     "iopub.status.busy": "2025-05-09T19:23:22.193280Z",
     "iopub.status.idle": "2025-05-09T19:23:22.214070Z",
     "shell.execute_reply": "2025-05-09T19:23:22.213066Z",
     "shell.execute_reply.started": "2025-05-09T19:23:22.193505Z"
    }
   },
   "outputs": [
    {
     "data": {
      "text/html": [
       "<div>\n",
       "<style scoped>\n",
       "    .dataframe tbody tr th:only-of-type {\n",
       "        vertical-align: middle;\n",
       "    }\n",
       "\n",
       "    .dataframe tbody tr th {\n",
       "        vertical-align: top;\n",
       "    }\n",
       "\n",
       "    .dataframe thead tr th {\n",
       "        text-align: left;\n",
       "    }\n",
       "\n",
       "    .dataframe thead tr:last-of-type th {\n",
       "        text-align: right;\n",
       "    }\n",
       "</style>\n",
       "<table border=\"1\" class=\"dataframe\">\n",
       "  <thead>\n",
       "    <tr>\n",
       "      <th>Price</th>\n",
       "      <th>Close</th>\n",
       "      <th>High</th>\n",
       "      <th>Low</th>\n",
       "      <th>Open</th>\n",
       "      <th>Volume</th>\n",
       "    </tr>\n",
       "    <tr>\n",
       "      <th>Ticker</th>\n",
       "      <th>TLT</th>\n",
       "      <th>TLT</th>\n",
       "      <th>TLT</th>\n",
       "      <th>TLT</th>\n",
       "      <th>TLT</th>\n",
       "    </tr>\n",
       "    <tr>\n",
       "      <th>Date</th>\n",
       "      <th></th>\n",
       "      <th></th>\n",
       "      <th></th>\n",
       "      <th></th>\n",
       "      <th></th>\n",
       "    </tr>\n",
       "  </thead>\n",
       "  <tbody>\n",
       "    <tr>\n",
       "      <th>2002-07-30</th>\n",
       "      <td>37.748501</td>\n",
       "      <td>37.924465</td>\n",
       "      <td>37.748501</td>\n",
       "      <td>37.855006</td>\n",
       "      <td>6100</td>\n",
       "    </tr>\n",
       "    <tr>\n",
       "      <th>2002-07-31</th>\n",
       "      <td>38.216183</td>\n",
       "      <td>38.341210</td>\n",
       "      <td>37.924457</td>\n",
       "      <td>37.947608</td>\n",
       "      <td>29400</td>\n",
       "    </tr>\n",
       "    <tr>\n",
       "      <th>2002-08-01</th>\n",
       "      <td>38.433846</td>\n",
       "      <td>38.443105</td>\n",
       "      <td>38.220839</td>\n",
       "      <td>38.220839</td>\n",
       "      <td>25000</td>\n",
       "    </tr>\n",
       "    <tr>\n",
       "      <th>2002-08-02</th>\n",
       "      <td>38.827469</td>\n",
       "      <td>38.943234</td>\n",
       "      <td>38.378301</td>\n",
       "      <td>38.507961</td>\n",
       "      <td>52800</td>\n",
       "    </tr>\n",
       "    <tr>\n",
       "      <th>2002-08-05</th>\n",
       "      <td>38.998764</td>\n",
       "      <td>39.100637</td>\n",
       "      <td>38.827431</td>\n",
       "      <td>38.915413</td>\n",
       "      <td>61100</td>\n",
       "    </tr>\n",
       "    <tr>\n",
       "      <th>...</th>\n",
       "      <td>...</td>\n",
       "      <td>...</td>\n",
       "      <td>...</td>\n",
       "      <td>...</td>\n",
       "      <td>...</td>\n",
       "    </tr>\n",
       "    <tr>\n",
       "      <th>2025-04-23</th>\n",
       "      <td>86.999878</td>\n",
       "      <td>88.733497</td>\n",
       "      <td>86.850426</td>\n",
       "      <td>88.554156</td>\n",
       "      <td>44082200</td>\n",
       "    </tr>\n",
       "    <tr>\n",
       "      <th>2025-04-24</th>\n",
       "      <td>87.916504</td>\n",
       "      <td>88.026101</td>\n",
       "      <td>87.438268</td>\n",
       "      <td>87.707275</td>\n",
       "      <td>24190800</td>\n",
       "    </tr>\n",
       "    <tr>\n",
       "      <th>2025-04-25</th>\n",
       "      <td>88.564125</td>\n",
       "      <td>88.783320</td>\n",
       "      <td>88.275187</td>\n",
       "      <td>88.574091</td>\n",
       "      <td>22513900</td>\n",
       "    </tr>\n",
       "    <tr>\n",
       "      <th>2025-04-28</th>\n",
       "      <td>89.122070</td>\n",
       "      <td>89.201779</td>\n",
       "      <td>88.285153</td>\n",
       "      <td>88.334973</td>\n",
       "      <td>20130500</td>\n",
       "    </tr>\n",
       "    <tr>\n",
       "      <th>2025-04-29</th>\n",
       "      <td>89.869316</td>\n",
       "      <td>89.879282</td>\n",
       "      <td>88.972622</td>\n",
       "      <td>88.992545</td>\n",
       "      <td>22129500</td>\n",
       "    </tr>\n",
       "  </tbody>\n",
       "</table>\n",
       "<p>5725 rows × 5 columns</p>\n",
       "</div>"
      ],
      "text/plain": [
       "Price           Close       High        Low       Open    Volume\n",
       "Ticker            TLT        TLT        TLT        TLT       TLT\n",
       "Date                                                            \n",
       "2002-07-30  37.748501  37.924465  37.748501  37.855006      6100\n",
       "2002-07-31  38.216183  38.341210  37.924457  37.947608     29400\n",
       "2002-08-01  38.433846  38.443105  38.220839  38.220839     25000\n",
       "2002-08-02  38.827469  38.943234  38.378301  38.507961     52800\n",
       "2002-08-05  38.998764  39.100637  38.827431  38.915413     61100\n",
       "...               ...        ...        ...        ...       ...\n",
       "2025-04-23  86.999878  88.733497  86.850426  88.554156  44082200\n",
       "2025-04-24  87.916504  88.026101  87.438268  87.707275  24190800\n",
       "2025-04-25  88.564125  88.783320  88.275187  88.574091  22513900\n",
       "2025-04-28  89.122070  89.201779  88.285153  88.334973  20130500\n",
       "2025-04-29  89.869316  89.879282  88.972622  88.992545  22129500\n",
       "\n",
       "[5725 rows x 5 columns]"
      ]
     },
     "execution_count": 4,
     "metadata": {},
     "output_type": "execute_result"
    }
   ],
   "source": [
    "tlt"
   ]
  },
  {
   "cell_type": "markdown",
   "id": "19030c97",
   "metadata": {},
   "source": [
    "Compute log returns for the adjusted closing prices"
   ]
  },
  {
   "cell_type": "code",
   "execution_count": 5,
   "id": "c4a980db",
   "metadata": {
    "execution": {
     "iopub.execute_input": "2025-05-09T19:23:22.217703Z",
     "iopub.status.busy": "2025-05-09T19:23:22.216322Z",
     "iopub.status.idle": "2025-05-09T19:23:22.229171Z",
     "shell.execute_reply": "2025-05-09T19:23:22.227545Z",
     "shell.execute_reply.started": "2025-05-09T19:23:22.217563Z"
    }
   },
   "outputs": [],
   "source": [
    "price_type = \"Close\"\n",
    "tlt[\"log_return\"] = np.log(tlt[price_type] / tlt[price_type].shift(1))"
   ]
  },
  {
   "cell_type": "markdown",
   "id": "3b1939d4",
   "metadata": {},
   "source": [
    "Add a column indicating the day of the month for each data entry"
   ]
  },
  {
   "cell_type": "code",
   "execution_count": 6,
   "id": "09f90951",
   "metadata": {
    "execution": {
     "iopub.execute_input": "2025-05-09T19:23:22.230252Z",
     "iopub.status.busy": "2025-05-09T19:23:22.230005Z",
     "iopub.status.idle": "2025-05-09T19:23:22.239119Z",
     "shell.execute_reply": "2025-05-09T19:23:22.236234Z",
     "shell.execute_reply.started": "2025-05-09T19:23:22.230231Z"
    }
   },
   "outputs": [],
   "source": [
    "tlt[\"day_of_month\"] = tlt.index.day"
   ]
  },
  {
   "cell_type": "markdown",
   "id": "2984311e",
   "metadata": {},
   "source": [
    "Add a column indicating the year for each data entry"
   ]
  },
  {
   "cell_type": "code",
   "execution_count": 7,
   "id": "75dabddb",
   "metadata": {
    "execution": {
     "iopub.execute_input": "2025-05-09T19:23:22.240336Z",
     "iopub.status.busy": "2025-05-09T19:23:22.240067Z",
     "iopub.status.idle": "2025-05-09T19:23:22.248269Z",
     "shell.execute_reply": "2025-05-09T19:23:22.246489Z",
     "shell.execute_reply.started": "2025-05-09T19:23:22.240312Z"
    }
   },
   "outputs": [],
   "source": [
    "tlt[\"year\"] = tlt.index.year"
   ]
  },
  {
   "cell_type": "code",
   "execution_count": 8,
   "id": "decaa111-c71e-43da-a170-537cf494c867",
   "metadata": {
    "execution": {
     "iopub.execute_input": "2025-05-09T19:23:22.250081Z",
     "iopub.status.busy": "2025-05-09T19:23:22.249528Z",
     "iopub.status.idle": "2025-05-09T19:23:22.262979Z",
     "shell.execute_reply": "2025-05-09T19:23:22.260149Z",
     "shell.execute_reply.started": "2025-05-09T19:23:22.250048Z"
    }
   },
   "outputs": [],
   "source": [
    "tlt['DoW'] = tlt.index.day_name()"
   ]
  },
  {
   "cell_type": "code",
   "execution_count": 9,
   "id": "01abe786-6bb1-444a-be0f-36d502c92a1d",
   "metadata": {
    "execution": {
     "iopub.execute_input": "2025-05-09T19:23:22.265373Z",
     "iopub.status.busy": "2025-05-09T19:23:22.264666Z",
     "iopub.status.idle": "2025-05-09T19:23:22.287197Z",
     "shell.execute_reply": "2025-05-09T19:23:22.285411Z",
     "shell.execute_reply.started": "2025-05-09T19:23:22.265341Z"
    }
   },
   "outputs": [
    {
     "data": {
      "text/html": [
       "<div>\n",
       "<style scoped>\n",
       "    .dataframe tbody tr th:only-of-type {\n",
       "        vertical-align: middle;\n",
       "    }\n",
       "\n",
       "    .dataframe tbody tr th {\n",
       "        vertical-align: top;\n",
       "    }\n",
       "\n",
       "    .dataframe thead tr th {\n",
       "        text-align: left;\n",
       "    }\n",
       "\n",
       "    .dataframe thead tr:last-of-type th {\n",
       "        text-align: right;\n",
       "    }\n",
       "</style>\n",
       "<table border=\"1\" class=\"dataframe\">\n",
       "  <thead>\n",
       "    <tr>\n",
       "      <th>Price</th>\n",
       "      <th>Close</th>\n",
       "      <th>High</th>\n",
       "      <th>Low</th>\n",
       "      <th>Open</th>\n",
       "      <th>Volume</th>\n",
       "      <th>log_return</th>\n",
       "      <th>day_of_month</th>\n",
       "      <th>year</th>\n",
       "      <th>DoW</th>\n",
       "    </tr>\n",
       "    <tr>\n",
       "      <th>Ticker</th>\n",
       "      <th>TLT</th>\n",
       "      <th>TLT</th>\n",
       "      <th>TLT</th>\n",
       "      <th>TLT</th>\n",
       "      <th>TLT</th>\n",
       "      <th></th>\n",
       "      <th></th>\n",
       "      <th></th>\n",
       "      <th></th>\n",
       "    </tr>\n",
       "    <tr>\n",
       "      <th>Date</th>\n",
       "      <th></th>\n",
       "      <th></th>\n",
       "      <th></th>\n",
       "      <th></th>\n",
       "      <th></th>\n",
       "      <th></th>\n",
       "      <th></th>\n",
       "      <th></th>\n",
       "      <th></th>\n",
       "    </tr>\n",
       "  </thead>\n",
       "  <tbody>\n",
       "    <tr>\n",
       "      <th>2002-07-30</th>\n",
       "      <td>37.748501</td>\n",
       "      <td>37.924465</td>\n",
       "      <td>37.748501</td>\n",
       "      <td>37.855006</td>\n",
       "      <td>6100</td>\n",
       "      <td>NaN</td>\n",
       "      <td>30</td>\n",
       "      <td>2002</td>\n",
       "      <td>Tuesday</td>\n",
       "    </tr>\n",
       "    <tr>\n",
       "      <th>2002-07-31</th>\n",
       "      <td>38.216183</td>\n",
       "      <td>38.341210</td>\n",
       "      <td>37.924457</td>\n",
       "      <td>37.947608</td>\n",
       "      <td>29400</td>\n",
       "      <td>0.012313</td>\n",
       "      <td>31</td>\n",
       "      <td>2002</td>\n",
       "      <td>Wednesday</td>\n",
       "    </tr>\n",
       "    <tr>\n",
       "      <th>2002-08-01</th>\n",
       "      <td>38.433846</td>\n",
       "      <td>38.443105</td>\n",
       "      <td>38.220839</td>\n",
       "      <td>38.220839</td>\n",
       "      <td>25000</td>\n",
       "      <td>0.005679</td>\n",
       "      <td>1</td>\n",
       "      <td>2002</td>\n",
       "      <td>Thursday</td>\n",
       "    </tr>\n",
       "  </tbody>\n",
       "</table>\n",
       "</div>"
      ],
      "text/plain": [
       "Price           Close       High        Low       Open Volume log_return  \\\n",
       "Ticker            TLT        TLT        TLT        TLT    TLT              \n",
       "Date                                                                       \n",
       "2002-07-30  37.748501  37.924465  37.748501  37.855006   6100        NaN   \n",
       "2002-07-31  38.216183  38.341210  37.924457  37.947608  29400   0.012313   \n",
       "2002-08-01  38.433846  38.443105  38.220839  38.220839  25000   0.005679   \n",
       "\n",
       "Price      day_of_month  year        DoW  \n",
       "Ticker                                    \n",
       "Date                                      \n",
       "2002-07-30           30  2002    Tuesday  \n",
       "2002-07-31           31  2002  Wednesday  \n",
       "2002-08-01            1  2002   Thursday  "
      ]
     },
     "execution_count": 9,
     "metadata": {},
     "output_type": "execute_result"
    }
   ],
   "source": [
    "tlt.head(3)"
   ]
  },
  {
   "cell_type": "markdown",
   "id": "8c32a1d9",
   "metadata": {},
   "source": [
    "Group the data by the day of the month and compute the mean log returns"
   ]
  },
  {
   "cell_type": "code",
   "execution_count": 10,
   "id": "603cb273",
   "metadata": {
    "execution": {
     "iopub.execute_input": "2025-05-09T19:23:22.289004Z",
     "iopub.status.busy": "2025-05-09T19:23:22.288638Z",
     "iopub.status.idle": "2025-05-09T19:23:22.301269Z",
     "shell.execute_reply": "2025-05-09T19:23:22.299701Z",
     "shell.execute_reply.started": "2025-05-09T19:23:22.288979Z"
    }
   },
   "outputs": [],
   "source": [
    "grouped_by_day = tlt.groupby(\"day_of_month\").log_return.mean()"
   ]
  },
  {
   "cell_type": "code",
   "execution_count": 11,
   "id": "f746383b-3c13-4e45-9201-422ef25cc221",
   "metadata": {
    "execution": {
     "iopub.execute_input": "2025-05-09T19:23:22.303383Z",
     "iopub.status.busy": "2025-05-09T19:23:22.302480Z",
     "iopub.status.idle": "2025-05-09T19:23:22.348695Z",
     "shell.execute_reply": "2025-05-09T19:23:22.314294Z",
     "shell.execute_reply.started": "2025-05-09T19:23:22.303328Z"
    },
    "scrolled": true
   },
   "outputs": [
    {
     "data": {
      "text/plain": [
       "day_of_month\n",
       "1    -0.000227\n",
       "2    -0.000577\n",
       "3    -0.000804\n",
       "4     0.000460\n",
       "5    -0.002372\n",
       "6    -0.000627\n",
       "7    -0.000407\n",
       "8     0.000071\n",
       "9    -0.000560\n",
       "10   -0.001207\n",
       "11    0.000489\n",
       "12   -0.000145\n",
       "13    0.000531\n",
       "14   -0.000193\n",
       "15    0.000832\n",
       "16    0.001063\n",
       "17    0.000669\n",
       "18   -0.000424\n",
       "19    0.000347\n",
       "20    0.001186\n",
       "21   -0.000955\n",
       "22    0.001268\n",
       "23    0.000770\n",
       "24    0.000623\n",
       "25    0.000025\n",
       "26    0.000511\n",
       "27    0.000339\n",
       "28    0.000814\n",
       "29    0.000251\n",
       "30    0.001573\n",
       "31    0.002424\n",
       "Name: log_return, dtype: float64"
      ]
     },
     "execution_count": 11,
     "metadata": {},
     "output_type": "execute_result"
    }
   ],
   "source": [
    "grouped_by_day"
   ]
  },
  {
   "cell_type": "code",
   "execution_count": 12,
   "id": "a197d397-cfe9-47c1-b939-8c2db66a7814",
   "metadata": {
    "execution": {
     "iopub.execute_input": "2025-05-09T19:23:22.351116Z",
     "iopub.status.busy": "2025-05-09T19:23:22.350456Z",
     "iopub.status.idle": "2025-05-09T19:23:23.037308Z",
     "shell.execute_reply": "2025-05-09T19:23:23.036299Z",
     "shell.execute_reply.started": "2025-05-09T19:23:22.351085Z"
    }
   },
   "outputs": [
    {
     "data": {
      "text/plain": [
       "<Axes: xlabel='day_of_month'>"
      ]
     },
     "execution_count": 12,
     "metadata": {},
     "output_type": "execute_result"
    },
    {
     "data": {
      "image/png": "[encoded data removed]",
      "text/plain": [
       "<Figure size 640x480 with 1 Axes>"
      ]
     },
     "metadata": {},
     "output_type": "display_data"
    }
   ],
   "source": [
    "tlt.groupby(\"day_of_month\").log_return.count().plot.bar()"
   ]
  },
  {
   "cell_type": "markdown",
   "id": "1b4f8529",
   "metadata": {},
   "source": [
    "Plot the mean log returns by calendar day of the month"
   ]
  },
  {
   "cell_type": "code",
   "execution_count": 13,
   "id": "91560197",
   "metadata": {
    "execution": {
     "iopub.execute_input": "2025-05-09T19:23:23.038563Z",
     "iopub.status.busy": "2025-05-09T19:23:23.038212Z",
     "iopub.status.idle": "2025-05-09T19:23:23.282948Z",
     "shell.execute_reply": "2025-05-09T19:23:23.281370Z",
     "shell.execute_reply.started": "2025-05-09T19:23:23.038542Z"
    }
   },
   "outputs": [
    {
     "data": {
      "text/plain": [
       "<Axes: title={'center': 'Mean Log Returns by Calendar Day of Month'}, xlabel='day_of_month'>"
      ]
     },
     "execution_count": 13,
     "metadata": {},
     "output_type": "execute_result"
    },
    {
     "data": {
      "image/png": "[encoded data removed]",
      "text/plain": [
       "<Figure size 640x480 with 1 Axes>"
      ]
     },
     "metadata": {},
     "output_type": "display_data"
    }
   ],
   "source": [
    "grouped_by_day.plot.bar(title=\"Mean Log Returns by Calendar Day of Month\")"
   ]
  },
  {
   "cell_type": "markdown",
   "id": "140667ff",
   "metadata": {},
   "source": [
    "Initialize a simple trading strategy of buying before month-end and selling at month-start"
   ]
  },
  {
   "cell_type": "markdown",
   "id": "05836b99-9da4-425e-9c51-454cd90ca69c",
   "metadata": {},
   "source": [
    "Note: Given what is actually implemented below, I would say that the strategy is slightly different:\n",
    "* buy on the 23rd, sell at the close on the last day of the month\n",
    "* short-sell on the first day of the month, and cover on the 7th at end of day."
   ]
  },
  {
   "cell_type": "code",
   "execution_count": 14,
   "id": "2b18f9df",
   "metadata": {
    "execution": {
     "iopub.execute_input": "2025-05-09T19:23:40.465703Z",
     "iopub.status.busy": "2025-05-09T19:23:40.465180Z",
     "iopub.status.idle": "2025-05-09T19:23:40.472852Z",
     "shell.execute_reply": "2025-05-09T19:23:40.471443Z",
     "shell.execute_reply.started": "2025-05-09T19:23:40.465675Z"
    }
   },
   "outputs": [],
   "source": [
    "# Set initial returns for the first week of the month to zero\n",
    "tlt[\"first_week_returns\"] = 0.0"
   ]
  },
  {
   "cell_type": "code",
   "execution_count": 15,
   "id": "af93c085",
   "metadata": {
    "execution": {
     "iopub.execute_input": "2025-05-09T19:24:44.832613Z",
     "iopub.status.busy": "2025-05-09T19:24:44.832130Z",
     "iopub.status.idle": "2025-05-09T19:24:44.848012Z",
     "shell.execute_reply": "2025-05-09T19:24:44.846805Z",
     "shell.execute_reply.started": "2025-05-09T19:24:44.832582Z"
    }
   },
   "outputs": [],
   "source": [
    "# Assign log returns to the first week of the month\n",
    "tlt.loc[tlt.day_of_month <= 7, \"first_week_returns\"] = tlt[tlt.day_of_month <= 7].log_return"
   ]
  },
  {
   "cell_type": "code",
   "execution_count": 16,
   "id": "6f309aad",
   "metadata": {
    "execution": {
     "iopub.execute_input": "2025-05-09T19:24:48.016903Z",
     "iopub.status.busy": "2025-05-09T19:24:48.016376Z",
     "iopub.status.idle": "2025-05-09T19:24:48.025055Z",
     "shell.execute_reply": "2025-05-09T19:24:48.023260Z",
     "shell.execute_reply.started": "2025-05-09T19:24:48.016856Z"
    }
   },
   "outputs": [],
   "source": [
    "# Set initial returns for the last week of the month to zero\n",
    "tlt[\"last_week_returns\"] = 0.0"
   ]
  },
  {
   "cell_type": "code",
   "execution_count": 17,
   "id": "2059ffd3",
   "metadata": {
    "execution": {
     "iopub.execute_input": "2025-05-09T19:24:51.261481Z",
     "iopub.status.busy": "2025-05-09T19:24:51.260959Z",
     "iopub.status.idle": "2025-05-09T19:24:51.276469Z",
     "shell.execute_reply": "2025-05-09T19:24:51.275131Z",
     "shell.execute_reply.started": "2025-05-09T19:24:51.261448Z"
    }
   },
   "outputs": [],
   "source": [
    "# Assign log returns to the last week of the month\n",
    "tlt.loc[tlt.day_of_month >= 23, \"last_week_returns\"] = tlt[tlt.day_of_month >= 23].log_return"
   ]
  },
  {
   "cell_type": "code",
   "execution_count": 18,
   "id": "e545f768-42bd-42ff-8ce1-11350533197e",
   "metadata": {
    "execution": {
     "iopub.execute_input": "2025-05-09T19:25:11.614762Z",
     "iopub.status.busy": "2025-05-09T19:25:11.613350Z",
     "iopub.status.idle": "2025-05-09T19:25:11.644535Z",
     "shell.execute_reply": "2025-05-09T19:25:11.643004Z",
     "shell.execute_reply.started": "2025-05-09T19:25:11.614730Z"
    }
   },
   "outputs": [
    {
     "data": {
      "text/html": [
       "<div>\n",
       "<style scoped>\n",
       "    .dataframe tbody tr th:only-of-type {\n",
       "        vertical-align: middle;\n",
       "    }\n",
       "\n",
       "    .dataframe tbody tr th {\n",
       "        vertical-align: top;\n",
       "    }\n",
       "\n",
       "    .dataframe thead tr th {\n",
       "        text-align: left;\n",
       "    }\n",
       "\n",
       "    .dataframe thead tr:last-of-type th {\n",
       "        text-align: right;\n",
       "    }\n",
       "</style>\n",
       "<table border=\"1\" class=\"dataframe\">\n",
       "  <thead>\n",
       "    <tr>\n",
       "      <th>Price</th>\n",
       "      <th>Close</th>\n",
       "      <th>High</th>\n",
       "      <th>Low</th>\n",
       "      <th>Open</th>\n",
       "      <th>Volume</th>\n",
       "      <th>log_return</th>\n",
       "      <th>day_of_month</th>\n",
       "      <th>year</th>\n",
       "      <th>DoW</th>\n",
       "      <th>first_week_returns</th>\n",
       "      <th>last_week_returns</th>\n",
       "    </tr>\n",
       "    <tr>\n",
       "      <th>Ticker</th>\n",
       "      <th>TLT</th>\n",
       "      <th>TLT</th>\n",
       "      <th>TLT</th>\n",
       "      <th>TLT</th>\n",
       "      <th>TLT</th>\n",
       "      <th></th>\n",
       "      <th></th>\n",
       "      <th></th>\n",
       "      <th></th>\n",
       "      <th></th>\n",
       "      <th></th>\n",
       "    </tr>\n",
       "    <tr>\n",
       "      <th>Date</th>\n",
       "      <th></th>\n",
       "      <th></th>\n",
       "      <th></th>\n",
       "      <th></th>\n",
       "      <th></th>\n",
       "      <th></th>\n",
       "      <th></th>\n",
       "      <th></th>\n",
       "      <th></th>\n",
       "      <th></th>\n",
       "      <th></th>\n",
       "    </tr>\n",
       "  </thead>\n",
       "  <tbody>\n",
       "    <tr>\n",
       "      <th>2002-07-30</th>\n",
       "      <td>37.748501</td>\n",
       "      <td>37.924465</td>\n",
       "      <td>37.748501</td>\n",
       "      <td>37.855006</td>\n",
       "      <td>6100</td>\n",
       "      <td>NaN</td>\n",
       "      <td>30</td>\n",
       "      <td>2002</td>\n",
       "      <td>Tuesday</td>\n",
       "      <td>0.000000</td>\n",
       "      <td>NaN</td>\n",
       "    </tr>\n",
       "    <tr>\n",
       "      <th>2002-07-31</th>\n",
       "      <td>38.216183</td>\n",
       "      <td>38.341210</td>\n",
       "      <td>37.924457</td>\n",
       "      <td>37.947608</td>\n",
       "      <td>29400</td>\n",
       "      <td>0.012313</td>\n",
       "      <td>31</td>\n",
       "      <td>2002</td>\n",
       "      <td>Wednesday</td>\n",
       "      <td>0.000000</td>\n",
       "      <td>0.012313</td>\n",
       "    </tr>\n",
       "    <tr>\n",
       "      <th>2002-08-01</th>\n",
       "      <td>38.433846</td>\n",
       "      <td>38.443105</td>\n",
       "      <td>38.220839</td>\n",
       "      <td>38.220839</td>\n",
       "      <td>25000</td>\n",
       "      <td>0.005679</td>\n",
       "      <td>1</td>\n",
       "      <td>2002</td>\n",
       "      <td>Thursday</td>\n",
       "      <td>0.005679</td>\n",
       "      <td>0.000000</td>\n",
       "    </tr>\n",
       "    <tr>\n",
       "      <th>2002-08-02</th>\n",
       "      <td>38.827469</td>\n",
       "      <td>38.943234</td>\n",
       "      <td>38.378301</td>\n",
       "      <td>38.507961</td>\n",
       "      <td>52800</td>\n",
       "      <td>0.010189</td>\n",
       "      <td>2</td>\n",
       "      <td>2002</td>\n",
       "      <td>Friday</td>\n",
       "      <td>0.010189</td>\n",
       "      <td>0.000000</td>\n",
       "    </tr>\n",
       "    <tr>\n",
       "      <th>2002-08-05</th>\n",
       "      <td>38.998764</td>\n",
       "      <td>39.100637</td>\n",
       "      <td>38.827431</td>\n",
       "      <td>38.915413</td>\n",
       "      <td>61100</td>\n",
       "      <td>0.004402</td>\n",
       "      <td>5</td>\n",
       "      <td>2002</td>\n",
       "      <td>Monday</td>\n",
       "      <td>0.004402</td>\n",
       "      <td>0.000000</td>\n",
       "    </tr>\n",
       "    <tr>\n",
       "      <th>...</th>\n",
       "      <td>...</td>\n",
       "      <td>...</td>\n",
       "      <td>...</td>\n",
       "      <td>...</td>\n",
       "      <td>...</td>\n",
       "      <td>...</td>\n",
       "      <td>...</td>\n",
       "      <td>...</td>\n",
       "      <td>...</td>\n",
       "      <td>...</td>\n",
       "      <td>...</td>\n",
       "    </tr>\n",
       "    <tr>\n",
       "      <th>2025-04-23</th>\n",
       "      <td>86.999878</td>\n",
       "      <td>88.733497</td>\n",
       "      <td>86.850426</td>\n",
       "      <td>88.554156</td>\n",
       "      <td>44082200</td>\n",
       "      <td>0.009666</td>\n",
       "      <td>23</td>\n",
       "      <td>2025</td>\n",
       "      <td>Wednesday</td>\n",
       "      <td>0.000000</td>\n",
       "      <td>0.009666</td>\n",
       "    </tr>\n",
       "    <tr>\n",
       "      <th>2025-04-24</th>\n",
       "      <td>87.916504</td>\n",
       "      <td>88.026101</td>\n",
       "      <td>87.438268</td>\n",
       "      <td>87.707275</td>\n",
       "      <td>24190800</td>\n",
       "      <td>0.010481</td>\n",
       "      <td>24</td>\n",
       "      <td>2025</td>\n",
       "      <td>Thursday</td>\n",
       "      <td>0.000000</td>\n",
       "      <td>0.010481</td>\n",
       "    </tr>\n",
       "    <tr>\n",
       "      <th>2025-04-25</th>\n",
       "      <td>88.564125</td>\n",
       "      <td>88.783320</td>\n",
       "      <td>88.275187</td>\n",
       "      <td>88.574091</td>\n",
       "      <td>22513900</td>\n",
       "      <td>0.007339</td>\n",
       "      <td>25</td>\n",
       "      <td>2025</td>\n",
       "      <td>Friday</td>\n",
       "      <td>0.000000</td>\n",
       "      <td>0.007339</td>\n",
       "    </tr>\n",
       "    <tr>\n",
       "      <th>2025-04-28</th>\n",
       "      <td>89.122070</td>\n",
       "      <td>89.201779</td>\n",
       "      <td>88.285153</td>\n",
       "      <td>88.334973</td>\n",
       "      <td>20130500</td>\n",
       "      <td>0.006280</td>\n",
       "      <td>28</td>\n",
       "      <td>2025</td>\n",
       "      <td>Monday</td>\n",
       "      <td>0.000000</td>\n",
       "      <td>0.006280</td>\n",
       "    </tr>\n",
       "    <tr>\n",
       "      <th>2025-04-29</th>\n",
       "      <td>89.869316</td>\n",
       "      <td>89.879282</td>\n",
       "      <td>88.972622</td>\n",
       "      <td>88.992545</td>\n",
       "      <td>22129500</td>\n",
       "      <td>0.008350</td>\n",
       "      <td>29</td>\n",
       "      <td>2025</td>\n",
       "      <td>Tuesday</td>\n",
       "      <td>0.000000</td>\n",
       "      <td>0.008350</td>\n",
       "    </tr>\n",
       "  </tbody>\n",
       "</table>\n",
       "<p>5725 rows × 11 columns</p>\n",
       "</div>"
      ],
      "text/plain": [
       "Price           Close       High        Low       Open    Volume log_return  \\\n",
       "Ticker            TLT        TLT        TLT        TLT       TLT              \n",
       "Date                                                                          \n",
       "2002-07-30  37.748501  37.924465  37.748501  37.855006      6100        NaN   \n",
       "2002-07-31  38.216183  38.341210  37.924457  37.947608     29400   0.012313   \n",
       "2002-08-01  38.433846  38.443105  38.220839  38.220839     25000   0.005679   \n",
       "2002-08-02  38.827469  38.943234  38.378301  38.507961     52800   0.010189   \n",
       "2002-08-05  38.998764  39.100637  38.827431  38.915413     61100   0.004402   \n",
       "...               ...        ...        ...        ...       ...        ...   \n",
       "2025-04-23  86.999878  88.733497  86.850426  88.554156  44082200   0.009666   \n",
       "2025-04-24  87.916504  88.026101  87.438268  87.707275  24190800   0.010481   \n",
       "2025-04-25  88.564125  88.783320  88.275187  88.574091  22513900   0.007339   \n",
       "2025-04-28  89.122070  89.201779  88.285153  88.334973  20130500   0.006280   \n",
       "2025-04-29  89.869316  89.879282  88.972622  88.992545  22129500   0.008350   \n",
       "\n",
       "Price      day_of_month  year        DoW first_week_returns last_week_returns  \n",
       "Ticker                                                                         \n",
       "Date                                                                           \n",
       "2002-07-30           30  2002    Tuesday           0.000000               NaN  \n",
       "2002-07-31           31  2002  Wednesday           0.000000          0.012313  \n",
       "2002-08-01            1  2002   Thursday           0.005679          0.000000  \n",
       "2002-08-02            2  2002     Friday           0.010189          0.000000  \n",
       "2002-08-05            5  2002     Monday           0.004402          0.000000  \n",
       "...                 ...   ...        ...                ...               ...  \n",
       "2025-04-23           23  2025  Wednesday           0.000000          0.009666  \n",
       "2025-04-24           24  2025   Thursday           0.000000          0.010481  \n",
       "2025-04-25           25  2025     Friday           0.000000          0.007339  \n",
       "2025-04-28           28  2025     Monday           0.000000          0.006280  \n",
       "2025-04-29           29  2025    Tuesday           0.000000          0.008350  \n",
       "\n",
       "[5725 rows x 11 columns]"
      ]
     },
     "execution_count": 18,
     "metadata": {},
     "output_type": "execute_result"
    }
   ],
   "source": [
    "tlt"
   ]
  },
  {
   "cell_type": "markdown",
   "id": "62b0088e",
   "metadata": {},
   "source": [
    "Compute the difference between last week returns and first week returns to simulate the strategy"
   ]
  },
  {
   "cell_type": "code",
   "execution_count": 19,
   "id": "ba54fbac",
   "metadata": {
    "execution": {
     "iopub.execute_input": "2025-05-09T19:25:44.770171Z",
     "iopub.status.busy": "2025-05-09T19:25:44.768659Z",
     "iopub.status.idle": "2025-05-09T19:25:44.782694Z",
     "shell.execute_reply": "2025-05-09T19:25:44.781083Z",
     "shell.execute_reply.started": "2025-05-09T19:25:44.770136Z"
    }
   },
   "outputs": [],
   "source": [
    "tlt[\"last_week_less_first_week\"] = tlt.last_week_returns - tlt.first_week_returns"
   ]
  },
  {
   "cell_type": "code",
   "execution_count": 20,
   "id": "33665817-a905-4391-b6dc-f5fd0dfb27cd",
   "metadata": {
    "execution": {
     "iopub.execute_input": "2025-05-09T19:25:48.251154Z",
     "iopub.status.busy": "2025-05-09T19:25:48.250616Z",
     "iopub.status.idle": "2025-05-09T19:25:48.279763Z",
     "shell.execute_reply": "2025-05-09T19:25:48.278095Z",
     "shell.execute_reply.started": "2025-05-09T19:25:48.251119Z"
    }
   },
   "outputs": [
    {
     "data": {
      "text/html": [
       "<div>\n",
       "<style scoped>\n",
       "    .dataframe tbody tr th:only-of-type {\n",
       "        vertical-align: middle;\n",
       "    }\n",
       "\n",
       "    .dataframe tbody tr th {\n",
       "        vertical-align: top;\n",
       "    }\n",
       "\n",
       "    .dataframe thead tr th {\n",
       "        text-align: left;\n",
       "    }\n",
       "\n",
       "    .dataframe thead tr:last-of-type th {\n",
       "        text-align: right;\n",
       "    }\n",
       "</style>\n",
       "<table border=\"1\" class=\"dataframe\">\n",
       "  <thead>\n",
       "    <tr>\n",
       "      <th>Price</th>\n",
       "      <th>Close</th>\n",
       "      <th>High</th>\n",
       "      <th>Low</th>\n",
       "      <th>Open</th>\n",
       "      <th>Volume</th>\n",
       "      <th>log_return</th>\n",
       "      <th>day_of_month</th>\n",
       "      <th>year</th>\n",
       "      <th>DoW</th>\n",
       "      <th>first_week_returns</th>\n",
       "      <th>last_week_returns</th>\n",
       "      <th>last_week_less_first_week</th>\n",
       "    </tr>\n",
       "    <tr>\n",
       "      <th>Ticker</th>\n",
       "      <th>TLT</th>\n",
       "      <th>TLT</th>\n",
       "      <th>TLT</th>\n",
       "      <th>TLT</th>\n",
       "      <th>TLT</th>\n",
       "      <th></th>\n",
       "      <th></th>\n",
       "      <th></th>\n",
       "      <th></th>\n",
       "      <th></th>\n",
       "      <th></th>\n",
       "      <th></th>\n",
       "    </tr>\n",
       "    <tr>\n",
       "      <th>Date</th>\n",
       "      <th></th>\n",
       "      <th></th>\n",
       "      <th></th>\n",
       "      <th></th>\n",
       "      <th></th>\n",
       "      <th></th>\n",
       "      <th></th>\n",
       "      <th></th>\n",
       "      <th></th>\n",
       "      <th></th>\n",
       "      <th></th>\n",
       "      <th></th>\n",
       "    </tr>\n",
       "  </thead>\n",
       "  <tbody>\n",
       "    <tr>\n",
       "      <th>2002-07-30</th>\n",
       "      <td>37.748501</td>\n",
       "      <td>37.924465</td>\n",
       "      <td>37.748501</td>\n",
       "      <td>37.855006</td>\n",
       "      <td>6100</td>\n",
       "      <td>NaN</td>\n",
       "      <td>30</td>\n",
       "      <td>2002</td>\n",
       "      <td>Tuesday</td>\n",
       "      <td>0.000000</td>\n",
       "      <td>NaN</td>\n",
       "      <td>NaN</td>\n",
       "    </tr>\n",
       "    <tr>\n",
       "      <th>2002-07-31</th>\n",
       "      <td>38.216183</td>\n",
       "      <td>38.341210</td>\n",
       "      <td>37.924457</td>\n",
       "      <td>37.947608</td>\n",
       "      <td>29400</td>\n",
       "      <td>0.012313</td>\n",
       "      <td>31</td>\n",
       "      <td>2002</td>\n",
       "      <td>Wednesday</td>\n",
       "      <td>0.000000</td>\n",
       "      <td>0.012313</td>\n",
       "      <td>0.012313</td>\n",
       "    </tr>\n",
       "    <tr>\n",
       "      <th>2002-08-01</th>\n",
       "      <td>38.433846</td>\n",
       "      <td>38.443105</td>\n",
       "      <td>38.220839</td>\n",
       "      <td>38.220839</td>\n",
       "      <td>25000</td>\n",
       "      <td>0.005679</td>\n",
       "      <td>1</td>\n",
       "      <td>2002</td>\n",
       "      <td>Thursday</td>\n",
       "      <td>0.005679</td>\n",
       "      <td>0.000000</td>\n",
       "      <td>-0.005679</td>\n",
       "    </tr>\n",
       "    <tr>\n",
       "      <th>2002-08-02</th>\n",
       "      <td>38.827469</td>\n",
       "      <td>38.943234</td>\n",
       "      <td>38.378301</td>\n",
       "      <td>38.507961</td>\n",
       "      <td>52800</td>\n",
       "      <td>0.010189</td>\n",
       "      <td>2</td>\n",
       "      <td>2002</td>\n",
       "      <td>Friday</td>\n",
       "      <td>0.010189</td>\n",
       "      <td>0.000000</td>\n",
       "      <td>-0.010189</td>\n",
       "    </tr>\n",
       "    <tr>\n",
       "      <th>2002-08-05</th>\n",
       "      <td>38.998764</td>\n",
       "      <td>39.100637</td>\n",
       "      <td>38.827431</td>\n",
       "      <td>38.915413</td>\n",
       "      <td>61100</td>\n",
       "      <td>0.004402</td>\n",
       "      <td>5</td>\n",
       "      <td>2002</td>\n",
       "      <td>Monday</td>\n",
       "      <td>0.004402</td>\n",
       "      <td>0.000000</td>\n",
       "      <td>-0.004402</td>\n",
       "    </tr>\n",
       "    <tr>\n",
       "      <th>...</th>\n",
       "      <td>...</td>\n",
       "      <td>...</td>\n",
       "      <td>...</td>\n",
       "      <td>...</td>\n",
       "      <td>...</td>\n",
       "      <td>...</td>\n",
       "      <td>...</td>\n",
       "      <td>...</td>\n",
       "      <td>...</td>\n",
       "      <td>...</td>\n",
       "      <td>...</td>\n",
       "      <td>...</td>\n",
       "    </tr>\n",
       "    <tr>\n",
       "      <th>2025-04-23</th>\n",
       "      <td>86.999878</td>\n",
       "      <td>88.733497</td>\n",
       "      <td>86.850426</td>\n",
       "      <td>88.554156</td>\n",
       "      <td>44082200</td>\n",
       "      <td>0.009666</td>\n",
       "      <td>23</td>\n",
       "      <td>2025</td>\n",
       "      <td>Wednesday</td>\n",
       "      <td>0.000000</td>\n",
       "      <td>0.009666</td>\n",
       "      <td>0.009666</td>\n",
       "    </tr>\n",
       "    <tr>\n",
       "      <th>2025-04-24</th>\n",
       "      <td>87.916504</td>\n",
       "      <td>88.026101</td>\n",
       "      <td>87.438268</td>\n",
       "      <td>87.707275</td>\n",
       "      <td>24190800</td>\n",
       "      <td>0.010481</td>\n",
       "      <td>24</td>\n",
       "      <td>2025</td>\n",
       "      <td>Thursday</td>\n",
       "      <td>0.000000</td>\n",
       "      <td>0.010481</td>\n",
       "      <td>0.010481</td>\n",
       "    </tr>\n",
       "    <tr>\n",
       "      <th>2025-04-25</th>\n",
       "      <td>88.564125</td>\n",
       "      <td>88.783320</td>\n",
       "      <td>88.275187</td>\n",
       "      <td>88.574091</td>\n",
       "      <td>22513900</td>\n",
       "      <td>0.007339</td>\n",
       "      <td>25</td>\n",
       "      <td>2025</td>\n",
       "      <td>Friday</td>\n",
       "      <td>0.000000</td>\n",
       "      <td>0.007339</td>\n",
       "      <td>0.007339</td>\n",
       "    </tr>\n",
       "    <tr>\n",
       "      <th>2025-04-28</th>\n",
       "      <td>89.122070</td>\n",
       "      <td>89.201779</td>\n",
       "      <td>88.285153</td>\n",
       "      <td>88.334973</td>\n",
       "      <td>20130500</td>\n",
       "      <td>0.006280</td>\n",
       "      <td>28</td>\n",
       "      <td>2025</td>\n",
       "      <td>Monday</td>\n",
       "      <td>0.000000</td>\n",
       "      <td>0.006280</td>\n",
       "      <td>0.006280</td>\n",
       "    </tr>\n",
       "    <tr>\n",
       "      <th>2025-04-29</th>\n",
       "      <td>89.869316</td>\n",
       "      <td>89.879282</td>\n",
       "      <td>88.972622</td>\n",
       "      <td>88.992545</td>\n",
       "      <td>22129500</td>\n",
       "      <td>0.008350</td>\n",
       "      <td>29</td>\n",
       "      <td>2025</td>\n",
       "      <td>Tuesday</td>\n",
       "      <td>0.000000</td>\n",
       "      <td>0.008350</td>\n",
       "      <td>0.008350</td>\n",
       "    </tr>\n",
       "  </tbody>\n",
       "</table>\n",
       "<p>5725 rows × 12 columns</p>\n",
       "</div>"
      ],
      "text/plain": [
       "Price           Close       High        Low       Open    Volume log_return  \\\n",
       "Ticker            TLT        TLT        TLT        TLT       TLT              \n",
       "Date                                                                          \n",
       "2002-07-30  37.748501  37.924465  37.748501  37.855006      6100        NaN   \n",
       "2002-07-31  38.216183  38.341210  37.924457  37.947608     29400   0.012313   \n",
       "2002-08-01  38.433846  38.443105  38.220839  38.220839     25000   0.005679   \n",
       "2002-08-02  38.827469  38.943234  38.378301  38.507961     52800   0.010189   \n",
       "2002-08-05  38.998764  39.100637  38.827431  38.915413     61100   0.004402   \n",
       "...               ...        ...        ...        ...       ...        ...   \n",
       "2025-04-23  86.999878  88.733497  86.850426  88.554156  44082200   0.009666   \n",
       "2025-04-24  87.916504  88.026101  87.438268  87.707275  24190800   0.010481   \n",
       "2025-04-25  88.564125  88.783320  88.275187  88.574091  22513900   0.007339   \n",
       "2025-04-28  89.122070  89.201779  88.285153  88.334973  20130500   0.006280   \n",
       "2025-04-29  89.869316  89.879282  88.972622  88.992545  22129500   0.008350   \n",
       "\n",
       "Price      day_of_month  year        DoW first_week_returns last_week_returns  \\\n",
       "Ticker                                                                          \n",
       "Date                                                                            \n",
       "2002-07-30           30  2002    Tuesday           0.000000               NaN   \n",
       "2002-07-31           31  2002  Wednesday           0.000000          0.012313   \n",
       "2002-08-01            1  2002   Thursday           0.005679          0.000000   \n",
       "2002-08-02            2  2002     Friday           0.010189          0.000000   \n",
       "2002-08-05            5  2002     Monday           0.004402          0.000000   \n",
       "...                 ...   ...        ...                ...               ...   \n",
       "2025-04-23           23  2025  Wednesday           0.000000          0.009666   \n",
       "2025-04-24           24  2025   Thursday           0.000000          0.010481   \n",
       "2025-04-25           25  2025     Friday           0.000000          0.007339   \n",
       "2025-04-28           28  2025     Monday           0.000000          0.006280   \n",
       "2025-04-29           29  2025    Tuesday           0.000000          0.008350   \n",
       "\n",
       "Price      last_week_less_first_week  \n",
       "Ticker                                \n",
       "Date                                  \n",
       "2002-07-30                       NaN  \n",
       "2002-07-31                  0.012313  \n",
       "2002-08-01                 -0.005679  \n",
       "2002-08-02                 -0.010189  \n",
       "2002-08-05                 -0.004402  \n",
       "...                              ...  \n",
       "2025-04-23                  0.009666  \n",
       "2025-04-24                  0.010481  \n",
       "2025-04-25                  0.007339  \n",
       "2025-04-28                  0.006280  \n",
       "2025-04-29                  0.008350  \n",
       "\n",
       "[5725 rows x 12 columns]"
      ]
     },
     "execution_count": 20,
     "metadata": {},
     "output_type": "execute_result"
    }
   ],
   "source": [
    "tlt"
   ]
  },
  {
   "cell_type": "markdown",
   "id": "faa8c041",
   "metadata": {},
   "source": [
    "Group the data by year and plot the mean returns of the strategy for each year"
   ]
  },
  {
   "cell_type": "code",
   "execution_count": 21,
   "id": "18bd50b3",
   "metadata": {
    "execution": {
     "iopub.execute_input": "2025-05-09T19:25:56.674953Z",
     "iopub.status.busy": "2025-05-09T19:25:56.674432Z",
     "iopub.status.idle": "2025-05-09T19:25:57.002915Z",
     "shell.execute_reply": "2025-05-09T19:25:57.000794Z",
     "shell.execute_reply.started": "2025-05-09T19:25:56.674907Z"
    }
   },
   "outputs": [
    {
     "data": {
      "text/plain": [
       "<Axes: title={'center': 'Mean Log Strategy Returns by Year'}, xlabel='year'>"
      ]
     },
     "execution_count": 21,
     "metadata": {},
     "output_type": "execute_result"
    },
    {
     "data": {
      "image/png": "[encoded data removed]",
      "text/plain": [
       "<Figure size 640x480 with 1 Axes>"
      ]
     },
     "metadata": {},
     "output_type": "display_data"
    }
   ],
   "source": [
    "(\n",
    "    tlt.groupby(\"year\")\n",
    "    .last_week_less_first_week.mean()\n",
    "    .plot.bar(title=\"Mean Log Strategy Returns by Year\")\n",
    ")"
   ]
  },
  {
   "cell_type": "markdown",
   "id": "5e426d67",
   "metadata": {},
   "source": [
    "Group the data by year, compute cumulative sum of returns, and plot it"
   ]
  },
  {
   "cell_type": "code",
   "execution_count": 22,
   "id": "4deb5f87",
   "metadata": {
    "execution": {
     "iopub.execute_input": "2025-05-09T19:26:00.761026Z",
     "iopub.status.busy": "2025-05-09T19:26:00.760682Z",
     "iopub.status.idle": "2025-05-09T19:26:01.040113Z",
     "shell.execute_reply": "2025-05-09T19:26:01.038626Z",
     "shell.execute_reply.started": "2025-05-09T19:26:00.761003Z"
    }
   },
   "outputs": [
    {
     "data": {
      "text/plain": [
       "<Axes: title={'center': 'Cumulative Sum of Returns By Year'}, xlabel='year'>"
      ]
     },
     "execution_count": 22,
     "metadata": {},
     "output_type": "execute_result"
    },
    {
     "data": {
      "image/png": "[encoded data removed]",
      "text/plain": [
       "<Figure size 640x480 with 1 Axes>"
      ]
     },
     "metadata": {},
     "output_type": "display_data"
    }
   ],
   "source": [
    "(\n",
    "    tlt.groupby(\"year\")\n",
    "    .last_week_less_first_week.sum()\n",
    "    .cumsum()\n",
    "    .plot(title=\"Cumulative Sum of Returns By Year\")\n",
    ")"
   ]
  },
  {
   "cell_type": "markdown",
   "id": "6d5019f4",
   "metadata": {},
   "source": [
    "Compute and plot the cumulative sum of returns by day"
   ]
  },
  {
   "cell_type": "code",
   "execution_count": 32,
   "id": "fea7dc3f",
   "metadata": {
    "execution": {
     "iopub.execute_input": "2025-05-09T19:21:08.536252Z",
     "iopub.status.busy": "2025-05-09T19:21:08.535849Z",
     "iopub.status.idle": "2025-05-09T19:21:08.823512Z",
     "shell.execute_reply": "2025-05-09T19:21:08.822329Z",
     "shell.execute_reply.started": "2025-05-09T19:21:08.536226Z"
    }
   },
   "outputs": [
    {
     "data": {
      "text/plain": [
       "<Axes: title={'center': 'Cumulative Sum of Returns By Day'}, xlabel='Date'>"
      ]
     },
     "execution_count": 32,
     "metadata": {},
     "output_type": "execute_result"
    },
    {
     "data": {
      "image/png": "[encoded data removed]",
      "text/plain": [
       "<Figure size 640x480 with 1 Axes>"
      ]
     },
     "metadata": {},
     "output_type": "display_data"
    }
   ],
   "source": [
    "tlt.last_week_less_first_week.cumsum().plot(title=\"Cumulative Sum of Returns By Day\")"
   ]
  }
 ],
 "metadata": {
  "jupytext": {
   "cell_metadata_filter": "-all",
   "main_language": "python",
   "notebook_metadata_filter": "-all"
  },
  "kernelspec": {
   "display_name": "Python 3 (ipykernel)",
   "language": "python",
   "name": "python3"
  },
  "language_info": {
   "codemirror_mode": {
    "name": "ipython",
    "version": 3
   },
   "file_extension": ".py",
   "mimetype": "text/x-python",
   "name": "python",
   "nbconvert_exporter": "python",
   "pygments_lexer": "ipython3",
   "version": "3.11.11"
  }
 },
 "nbformat": 4,
 "nbformat_minor": 5
}
