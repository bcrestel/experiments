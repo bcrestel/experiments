{
 "cells": [
  {
   "cell_type": "code",
   "execution_count": 1,
   "id": "feb7d3f0-2082-4a53-bbc9-64696deae08e",
   "metadata": {
    "execution": {
     "iopub.execute_input": "2025-04-14T17:47:34.322930Z",
     "iopub.status.busy": "2025-04-14T17:47:34.322558Z",
     "iopub.status.idle": "2025-04-14T17:48:10.131724Z",
     "shell.execute_reply": "2025-04-14T17:48:10.130084Z",
     "shell.execute_reply.started": "2025-04-14T17:47:34.322901Z"
    },
    "scrolled": true
   },
   "outputs": [
    {
     "name": "stdout",
     "output_type": "stream",
     "text": [
      "Collecting cyipopt\n",
      "  Downloading cyipopt-1.5.0.tar.gz (68 kB)\n",
      "\u001b[2K     \u001b[90m━━━━━━━━━━━━━━━━━━━━━━━━━━━━━━━━━━━━━━━━\u001b[0m \u001b[32m68.2/68.2 kB\u001b[0m \u001b[31m1.6 MB/s\u001b[0m eta \u001b[36m0:00:00\u001b[0ma \u001b[36m0:00:01\u001b[0m\n",
      "\u001b[?25h  Installing build dependencies ... \u001b[?25ldone\n",
      "\u001b[?25h  Getting requirements to build wheel ... \u001b[?25ldone\n",
      "\u001b[?25h  Preparing metadata (pyproject.toml) ... \u001b[?25ldone\n",
      "\u001b[?25hRequirement already satisfied: numpy>=1.21.5 in /usr/local/lib/python3.11/site-packages (from cyipopt) (2.2.4)\n",
      "Building wheels for collected packages: cyipopt\n",
      "  Building wheel for cyipopt (pyproject.toml) ... \u001b[?25ldone\n",
      "\u001b[?25h  Created wheel for cyipopt: filename=cyipopt-1.5.0-cp311-cp311-linux_x86_64.whl size=852879 sha256=a89929c15885a5a95058081e4a832f0b21764470fdbef549adf9a21bb5ea373b\n",
      "  Stored in directory: /root/.cache/pip/wheels/5c/7e/0c/efed40804bdab977ee1bac731a5f583397e36abef25e65ca5d\n",
      "Successfully built cyipopt\n",
      "Installing collected packages: cyipopt\n",
      "Successfully installed cyipopt-1.5.0\n",
      "\u001b[33mWARNING: Running pip as the 'root' user can result in broken permissions and conflicting behaviour with the system package manager. It is recommended to use a virtual environment instead: https://pip.pypa.io/warnings/venv\u001b[0m\u001b[33m\n",
      "\u001b[0m\n",
      "\u001b[1m[\u001b[0m\u001b[34;49mnotice\u001b[0m\u001b[1;39;49m]\u001b[0m\u001b[39;49m A new release of pip is available: \u001b[0m\u001b[31;49m24.0\u001b[0m\u001b[39;49m -> \u001b[0m\u001b[32;49m25.0.1\u001b[0m\n",
      "\u001b[1m[\u001b[0m\u001b[34;49mnotice\u001b[0m\u001b[1;39;49m]\u001b[0m\u001b[39;49m To update, run: \u001b[0m\u001b[32;49mpip install --upgrade pip\u001b[0m\n"
     ]
    }
   ],
   "source": [
    "!pip install cyipopt"
   ]
  },
  {
   "cell_type": "code",
   "execution_count": 2,
   "id": "44c07536-7955-4d82-a1a0-f6c017c4df60",
   "metadata": {
    "execution": {
     "iopub.execute_input": "2025-04-14T17:48:10.134212Z",
     "iopub.status.busy": "2025-04-14T17:48:10.133821Z",
     "iopub.status.idle": "2025-04-14T17:48:20.436167Z",
     "shell.execute_reply": "2025-04-14T17:48:20.434475Z",
     "shell.execute_reply.started": "2025-04-14T17:48:10.134175Z"
    },
    "scrolled": true
   },
   "outputs": [
    {
     "name": "stdout",
     "output_type": "stream",
     "text": [
      "Collecting pyomo\n",
      "  Downloading pyomo-6.9.1-cp311-cp311-manylinux_2_17_x86_64.manylinux2014_x86_64.whl.metadata (8.2 kB)\n",
      "Collecting ply (from pyomo)\n",
      "  Downloading ply-3.11-py2.py3-none-any.whl.metadata (844 bytes)\n",
      "Downloading pyomo-6.9.1-cp311-cp311-manylinux_2_17_x86_64.manylinux2014_x86_64.whl (4.2 MB)\n",
      "\u001b[2K   \u001b[90m━━━━━━━━━━━━━━━━━━━━━━━━━━━━━━━━━━━━━━━━\u001b[0m \u001b[32m4.2/4.2 MB\u001b[0m \u001b[31m9.6 MB/s\u001b[0m eta \u001b[36m0:00:00\u001b[0m:00:01\u001b[0m0:01\u001b[0mm\n",
      "\u001b[?25hDownloading ply-3.11-py2.py3-none-any.whl (49 kB)\n",
      "\u001b[2K   \u001b[90m━━━━━━━━━━━━━━━━━━━━━━━━━━━━━━━━━━━━━━━━\u001b[0m \u001b[32m49.6/49.6 kB\u001b[0m \u001b[31m8.5 MB/s\u001b[0m eta \u001b[36m0:00:00\u001b[0m\n",
      "\u001b[?25hInstalling collected packages: ply, pyomo\n",
      "Successfully installed ply-3.11 pyomo-6.9.1\n",
      "\u001b[33mWARNING: Running pip as the 'root' user can result in broken permissions and conflicting behaviour with the system package manager. It is recommended to use a virtual environment instead: https://pip.pypa.io/warnings/venv\u001b[0m\u001b[33m\n",
      "\u001b[0m\n",
      "\u001b[1m[\u001b[0m\u001b[34;49mnotice\u001b[0m\u001b[1;39;49m]\u001b[0m\u001b[39;49m A new release of pip is available: \u001b[0m\u001b[31;49m24.0\u001b[0m\u001b[39;49m -> \u001b[0m\u001b[32;49m25.0.1\u001b[0m\n",
      "\u001b[1m[\u001b[0m\u001b[34;49mnotice\u001b[0m\u001b[1;39;49m]\u001b[0m\u001b[39;49m To update, run: \u001b[0m\u001b[32;49mpip install --upgrade pip\u001b[0m\n"
     ]
    }
   ],
   "source": [
    "!pip install pyomo"
   ]
  },
  {
   "cell_type": "code",
   "execution_count": 3,
   "id": "6fb52e55-b5cf-4df8-b66b-e5ec61ca717c",
   "metadata": {
    "execution": {
     "iopub.execute_input": "2025-04-14T17:48:20.438316Z",
     "iopub.status.busy": "2025-04-14T17:48:20.437877Z",
     "iopub.status.idle": "2025-04-14T17:48:23.994288Z",
     "shell.execute_reply": "2025-04-14T17:48:23.991156Z",
     "shell.execute_reply.started": "2025-04-14T17:48:20.438272Z"
    },
    "scrolled": true
   },
   "outputs": [
    {
     "name": "stdout",
     "output_type": "stream",
     "text": [
      "INFO: As of February 9, 2023, AMPL GSL can no longer be downloaded\n",
      "through download-extensions. Visit https://portal.ampl.com/             to\n",
      "download the AMPL GSL binaries.\n",
      "INFO: Fetching GJH from https://netlib.org/ampl/student/linux/gjh.gz and\n",
      "installing it to /root/.pyomo/bin/gjh\n",
      "INFO: ...downloaded 113965 bytes\n",
      "INFO: ...wrote 220564 bytes\n",
      "INFO: Fetching MC++ from https://github.com/omega-icl/mcpp/archive/master.zip\n",
      "and installing it to /root/.pyomo/src/mcpp\n",
      "INFO: ...downloaded 2836791 bytes\n",
      "INFO: Finished downloading Pyomo extensions.\n",
      "INFO: The following extensions were downloaded:\n",
      "    [ OK ]  gjh\n",
      "    [ OK ]  mcpp\n"
     ]
    }
   ],
   "source": [
    "!pyomo download-extensions"
   ]
  },
  {
   "cell_type": "code",
   "execution_count": 4,
   "id": "446a0682-b4ee-4927-9fff-b8523eb4e3c0",
   "metadata": {
    "execution": {
     "iopub.execute_input": "2025-04-14T17:48:24.025414Z",
     "iopub.status.busy": "2025-04-14T17:48:24.024902Z",
     "iopub.status.idle": "2025-04-14T17:48:47.248796Z",
     "shell.execute_reply": "2025-04-14T17:48:47.247640Z",
     "shell.execute_reply.started": "2025-04-14T17:48:24.025362Z"
    },
    "scrolled": true
   },
   "outputs": [
    {
     "name": "stdout",
     "output_type": "stream",
     "text": [
      "\n",
      "**** Building AMPL External function demo library ****\n",
      "-- The C compiler identification is GNU 10.2.1\n",
      "-- The CXX compiler identification is GNU 10.2.1\n",
      "-- Detecting C compiler ABI info\n",
      "-- Detecting C compiler ABI info - done\n",
      "-- Check for working C compiler: /usr/bin/cc - skipped\n",
      "-- Detecting C compile features\n",
      "-- Detecting C compile features - done\n",
      "-- Detecting CXX compiler ABI info\n",
      "-- Detecting CXX compiler ABI info - done\n",
      "-- Check for working CXX compiler: /usr/bin/c++ - skipped\n",
      "-- Detecting CXX compile features\n",
      "-- Detecting CXX compile features - done\n",
      "-- Found PkgConfig: /usr/bin/pkg-config (found version \"0.29.2\") \n",
      "-- Configuring done\n",
      "-- Generating done\n",
      "-- Build files have been written to: /tmp/tmpqumpz5nn\n",
      "\u001b[35m\u001b[1mScanning dependencies of target ampl_asl\u001b[0m\n",
      "[ 11%] \u001b[34m\u001b[1mCreating directories for 'ampl_asl'\u001b[0m\n",
      "[ 22%] \u001b[34m\u001b[1mPerforming download step (git clone) for 'ampl_asl'\u001b[0m\n",
      "Cloning into 'ampl_asl'...\n",
      "Note: switching to '9fb7cb8e4f68ed1c3bc066d191e63698b7d7d1d2'.\n",
      "\n",
      "You are in 'detached HEAD' state. You can look around, make experimental\n",
      "changes and commit them, and you can discard any commits you make in this\n",
      "state without impacting any branches by switching back to a branch.\n",
      "\n",
      "If you want to create a new branch to retain commits you create, you may\n",
      "do so (now or later) by using -c with the switch command. Example:\n",
      "\n",
      "  git switch -c <new-branch-name>\n",
      "\n",
      "Or undo this operation with:\n",
      "\n",
      "  git switch -\n",
      "\n",
      "Turn off this advice by setting config variable advice.detachedHead to false\n",
      "\n",
      "HEAD is now at 9fb7cb8 Xpress 20220112. Update to XPRESS 11.0.  New keywords:  autocutting, barobjperturb, barrefiter, clamping, heuremphasis, inputtol, maxstalltime, mipcomponents, mipconcurnodes, mipconcursolves, miprestart, miprestartfactor, miprestartgaptol, netstalllimit, nodeprobingeffort, prefolding, siftpasses, siftpresolveops, siftswitch.\n",
      "[ 33%] \u001b[34m\u001b[1mNo patch step for 'ampl_asl'\u001b[0m\n",
      "[ 44%] \u001b[34m\u001b[1mPerforming configure step for 'ampl_asl'\u001b[0m\n",
      "loading initial cache file /tmp/tmpqumpz5nn/ampl_asl-prefix/tmp/ampl_asl-cache-.cmake\n",
      "-- The C compiler identification is GNU 10.2.1\n",
      "-- The CXX compiler identification is GNU 10.2.1\n",
      "-- Detecting C compiler ABI info\n",
      "-- Detecting C compiler ABI info - done\n",
      "-- Check for working C compiler: /usr/bin/cc - skipped\n",
      "-- Detecting C compile features\n",
      "-- Detecting C compile features - done\n",
      "-- Detecting CXX compiler ABI info\n",
      "-- Detecting CXX compiler ABI info - done\n",
      "-- Check for working CXX compiler: /usr/bin/c++ - skipped\n",
      "-- Detecting CXX compile features\n",
      "-- Detecting CXX compile features - done\n",
      "Defaulting to 64 bits build. To build 32 bits binaries on a 64 bits compiler, define the architecture of the build, calling CMake with the parameter -DARCH=32\n",
      "-- System: Linux-5.15.49-linuxkit\n",
      "-- Build type: GNU\n",
      "-- Compiler version: 10.2.1\n",
      "-- Generator version: Unix Makefiles\n",
      "-- Platform toolset: \n",
      "-- Architecture: x86_64\n",
      "-- Looking for strtoull\n",
      "-- Looking for strtoull - found\n",
      "-- Looking for getrusage\n",
      "-- Looking for getrusage - found\n",
      "-- Configuring done\n",
      "-- Generating done\n",
      "-- Build files have been written to: /tmp/tmpqumpz5nn/ampl_asl-prefix/src/ampl_asl-build\n",
      "[ 55%] \u001b[34m\u001b[1mPerforming build step for 'ampl_asl'\u001b[0m\n",
      "\u001b[35m\u001b[1mScanning dependencies of target arith-h\u001b[0m\n",
      "[  0%] \u001b[34m\u001b[1mCopying arith.h1 to /tmp/tmpqumpz5nn/ampl_asl-prefix/src/ampl_asl-build/include/arith.h\u001b[0m\n",
      "[  0%] Built target arith-h\n",
      "\u001b[35m\u001b[1mScanning dependencies of target asl2\u001b[0m\n",
      "[  0%] \u001b[32mBuilding C object CMakeFiles/asl2.dir/include/details.c.o\u001b[0m\n",
      "[  1%] \u001b[32mBuilding C object CMakeFiles/asl2.dir/src/solvers2/asldate.c.o\u001b[0m\n",
      "[  1%] \u001b[32mBuilding C object CMakeFiles/asl2.dir/src/solvers2/atof.c.o\u001b[0m\n",
      "[  2%] \u001b[32mBuilding C object CMakeFiles/asl2.dir/src/solvers2/auxinfo.c.o\u001b[0m\n",
      "[  3%] \u001b[32mBuilding C object CMakeFiles/asl2.dir/src/solvers2/avltree.c.o\u001b[0m\n",
      "[  3%] \u001b[32mBuilding C object CMakeFiles/asl2.dir/src/solvers2/b_search.c.o\u001b[0m\n",
      "[  4%] \u001b[32mBuilding C object CMakeFiles/asl2.dir/src/solvers2/basename.c.o\u001b[0m\n",
      "[  4%] \u001b[32mBuilding C object CMakeFiles/asl2.dir/src/solvers2/bscanf.c.o\u001b[0m\n",
      "[  5%] \u001b[32mBuilding C object CMakeFiles/asl2.dir/src/solvers2/conscale.c.o\u001b[0m\n",
      "[  6%] \u001b[32mBuilding C object CMakeFiles/asl2.dir/src/solvers2/degree.c.o\u001b[0m\n",
      "[  6%] \u001b[32mBuilding C object CMakeFiles/asl2.dir/src/solvers2/derprop.c.o\u001b[0m\n",
      "[  7%] \u001b[32mBuilding C object CMakeFiles/asl2.dir/src/solvers2/dtoa1.c.o\u001b[0m\n",
      "[  7%] \u001b[32mBuilding C object CMakeFiles/asl2.dir/src/solvers2/duthes.c.o\u001b[0m\n",
      "[  8%] \u001b[32mBuilding C object CMakeFiles/asl2.dir/src/solvers2/dynlink.c.o\u001b[0m\n",
      "[  8%] \u001b[32mBuilding C object CMakeFiles/asl2.dir/src/solvers2/eval1.c.o\u001b[0m\n",
      "[  9%] \u001b[32mBuilding C object CMakeFiles/asl2.dir/src/solvers2/eval2.c.o\u001b[0m\n",
      "[ 10%] \u001b[32mBuilding C object CMakeFiles/asl2.dir/src/solvers2/ewalloc1.c.o\u001b[0m\n",
      "[ 10%] \u001b[32mBuilding C object CMakeFiles/asl2.dir/src/solvers2/ewalloc2.c.o\u001b[0m\n",
      "[ 11%] \u001b[32mBuilding C object CMakeFiles/asl2.dir/src/solvers2/f_read.c.o\u001b[0m\n",
      "[ 11%] \u001b[32mBuilding C object CMakeFiles/asl2.dir/src/solvers2/fg_read.c.o\u001b[0m\n",
      "[ 12%] \u001b[32mBuilding C object CMakeFiles/asl2.dir/src/solvers2/fg_write.c.o\u001b[0m\n",
      "[ 13%] \u001b[32mBuilding C object CMakeFiles/asl2.dir/src/solvers2/fpecatch.c.o\u001b[0m\n",
      "[ 13%] \u001b[32mBuilding C object CMakeFiles/asl2.dir/src/solvers2/fpinit.c.o\u001b[0m\n",
      "[ 14%] \u001b[32mBuilding C object CMakeFiles/asl2.dir/src/solvers2/fullhes.c.o\u001b[0m\n",
      "[ 14%] \u001b[32mBuilding C object CMakeFiles/asl2.dir/src/solvers2/func_add.c.o\u001b[0m\n",
      "[ 15%] \u001b[32mBuilding C object CMakeFiles/asl2.dir/src/solvers2/funcadd1.c.o\u001b[0m\n",
      "[ 16%] \u001b[32mBuilding C object CMakeFiles/asl2.dir/src/solvers2/g_fmt.c.o\u001b[0m\n",
      "[ 16%] \u001b[32mBuilding C object CMakeFiles/asl2.dir/src/solvers2/genrowno.c.o\u001b[0m\n",
      "[ 17%] \u001b[32mBuilding C object CMakeFiles/asl2.dir/src/solvers2/getenv.c.o\u001b[0m\n",
      "[ 17%] \u001b[32mBuilding C object CMakeFiles/asl2.dir/src/solvers2/getstub.c.o\u001b[0m\n",
      "[ 18%] \u001b[32mBuilding C object CMakeFiles/asl2.dir/src/solvers2/htcl.c.o\u001b[0m\n",
      "[ 18%] \u001b[32mBuilding C object CMakeFiles/asl2.dir/src/solvers2/indic_cons.c.o\u001b[0m\n",
      "[ 19%] \u001b[32mBuilding C object CMakeFiles/asl2.dir/src/solvers2/jac0dim.c.o\u001b[0m\n",
      "[ 20%] \u001b[32mBuilding C object CMakeFiles/asl2.dir/src/solvers2/jac2dim.c.o\u001b[0m\n",
      "[ 20%] \u001b[32mBuilding C object CMakeFiles/asl2.dir/src/solvers2/jacdim.c.o\u001b[0m\n",
      "[ 21%] \u001b[32mBuilding C object CMakeFiles/asl2.dir/src/solvers2/jacinc.c.o\u001b[0m\n",
      "[ 21%] \u001b[32mBuilding C object CMakeFiles/asl2.dir/src/solvers2/jacinc1.c.o\u001b[0m\n",
      "[ 22%] \u001b[32mBuilding C object CMakeFiles/asl2.dir/src/solvers2/libnamsave.c.o\u001b[0m\n",
      "[ 23%] \u001b[32mBuilding C object CMakeFiles/asl2.dir/src/solvers2/mach.c.o\u001b[0m\n",
      "[ 23%] \u001b[32mBuilding C object CMakeFiles/asl2.dir/src/solvers2/mainexit.c.o\u001b[0m\n",
      "[ 24%] \u001b[32mBuilding C object CMakeFiles/asl2.dir/src/solvers2/mip_pri.c.o\u001b[0m\n",
      "[ 24%] \u001b[32mBuilding C object CMakeFiles/asl2.dir/src/solvers2/misc.c.o\u001b[0m\n",
      "[ 25%] \u001b[32mBuilding C object CMakeFiles/asl2.dir/src/solvers2/mpec_adj.c.o\u001b[0m\n",
      "[ 26%] \u001b[32mBuilding C object CMakeFiles/asl2.dir/src/solvers2/mqpcheckv.c.o\u001b[0m\n",
      "[ 26%] \u001b[32mBuilding C object CMakeFiles/asl2.dir/src/solvers2/mypow.c.o\u001b[0m\n",
      "[ 27%] \u001b[32mBuilding C object CMakeFiles/asl2.dir/src/solvers2/names.c.o\u001b[0m\n",
      "[ 27%] \u001b[32mBuilding C object CMakeFiles/asl2.dir/src/solvers2/nl_obj.c.o\u001b[0m\n",
      "[ 28%] \u001b[32mBuilding C object CMakeFiles/asl2.dir/src/solvers2/nqpcheck.c.o\u001b[0m\n",
      "[ 28%] \u001b[32mBuilding C object CMakeFiles/asl2.dir/src/solvers2/nqpcheckZ.c.o\u001b[0m\n",
      "[ 29%] \u001b[32mBuilding C object CMakeFiles/asl2.dir/src/solvers2/obj_adj.c.o\u001b[0m\n",
      "[ 30%] \u001b[32mBuilding C object CMakeFiles/asl2.dir/src/solvers2/obj_prec.c.o\u001b[0m\n",
      "[ 30%] \u001b[32mBuilding C object CMakeFiles/asl2.dir/src/solvers2/objconst.c.o\u001b[0m\n",
      "[ 31%] \u001b[32mBuilding C object CMakeFiles/asl2.dir/src/solvers2/objval_.c.o\u001b[0m\n",
      "[ 31%] \u001b[32mBuilding C object CMakeFiles/asl2.dir/src/solvers2/op_type.c.o\u001b[0m\n",
      "[ 32%] \u001b[32mBuilding C object CMakeFiles/asl2.dir/src/solvers2/pfghread.c.o\u001b[0m\n",
      "[ 33%] \u001b[32mBuilding C object CMakeFiles/asl2.dir/src/solvers2/printf.c.o\u001b[0m\n",
      "[ 33%] \u001b[32mBuilding C object CMakeFiles/asl2.dir/src/solvers2/pshvprod.c.o\u001b[0m\n",
      "[ 34%] \u001b[32mBuilding C object CMakeFiles/asl2.dir/src/solvers2/punknown.c.o\u001b[0m\n",
      "[ 34%] \u001b[32mBuilding C object CMakeFiles/asl2.dir/src/solvers2/qpcheck.c.o\u001b[0m\n",
      "[ 35%] \u001b[32mBuilding C object CMakeFiles/asl2.dir/src/solvers2/qpcheckZ.c.o\u001b[0m\n",
      "[ 36%] \u001b[32mBuilding C object CMakeFiles/asl2.dir/src/solvers2/qsortv.c.o\u001b[0m\n",
      "[ 36%] \u001b[32mBuilding C object CMakeFiles/asl2.dir/src/solvers2/readsol.c.o\u001b[0m\n",
      "[ 37%] \u001b[32mBuilding C object CMakeFiles/asl2.dir/src/solvers2/repwhere.c.o\u001b[0m\n",
      "[ 37%] \u001b[32mBuilding C object CMakeFiles/asl2.dir/src/solvers2/sigcatch.c.o\u001b[0m\n",
      "[ 38%] \u001b[32mBuilding C object CMakeFiles/asl2.dir/src/solvers2/sos_add.c.o\u001b[0m\n",
      "[ 38%] \u001b[32mBuilding C object CMakeFiles/asl2.dir/src/solvers2/sphes.c.o\u001b[0m\n",
      "[ 39%] \u001b[32mBuilding C object CMakeFiles/asl2.dir/src/solvers2/sscanf.c.o\u001b[0m\n",
      "[ 40%] \u001b[32mBuilding C object CMakeFiles/asl2.dir/src/solvers2/stderr.c.o\u001b[0m\n",
      "[ 40%] \u001b[32mBuilding C object CMakeFiles/asl2.dir/src/solvers2/studchk0.c.o\u001b[0m\n",
      "[ 41%] \u001b[32mBuilding C object CMakeFiles/asl2.dir/src/solvers2/suf_sos.c.o\u001b[0m\n",
      "[ 41%] \u001b[32mBuilding C object CMakeFiles/asl2.dir/src/solvers2/value.c.o\u001b[0m\n",
      "[ 42%] \u001b[32mBuilding C object CMakeFiles/asl2.dir/src/solvers2/writesol.c.o\u001b[0m\n",
      "[ 43%] \u001b[32mBuilding C object CMakeFiles/asl2.dir/src/solvers2/wrtsol_.c.o\u001b[0m\n",
      "[ 43%] \u001b[32mBuilding C object CMakeFiles/asl2.dir/src/solvers2/ws_desc.c.o\u001b[0m\n",
      "[ 44%] \u001b[32mBuilding C object CMakeFiles/asl2.dir/src/solvers2/wsu_desc.c.o\u001b[0m\n",
      "[ 44%] \u001b[32mBuilding C object CMakeFiles/asl2.dir/src/solvers2/xectim.c.o\u001b[0m\n",
      "[ 45%] \u001b[32mBuilding C object CMakeFiles/asl2.dir/src/solvers2/xp2known.c.o\u001b[0m\n",
      "[ 46%] \u001b[32m\u001b[1mLinking C static library lib/libasl2.a\u001b[0m\n",
      "[ 47%] Built target asl2\n",
      "\u001b[35m\u001b[1mScanning dependencies of target asl\u001b[0m\n",
      "[ 47%] \u001b[32mBuilding C object CMakeFiles/asl.dir/include/details.c.o\u001b[0m\n",
      "[ 48%] \u001b[32mBuilding C object CMakeFiles/asl.dir/src/solvers/asldate.c.o\u001b[0m\n",
      "[ 48%] \u001b[32mBuilding C object CMakeFiles/asl.dir/src/solvers/atof.c.o\u001b[0m\n",
      "[ 49%] \u001b[32mBuilding C object CMakeFiles/asl.dir/src/solvers/auxinfo.c.o\u001b[0m\n",
      "[ 50%] \u001b[32mBuilding C object CMakeFiles/asl.dir/src/solvers/avltree.c.o\u001b[0m\n",
      "[ 50%] \u001b[32mBuilding C object CMakeFiles/asl.dir/src/solvers/b_search.c.o\u001b[0m\n",
      "[ 51%] \u001b[32mBuilding C object CMakeFiles/asl.dir/src/solvers/basename.c.o\u001b[0m\n",
      "[ 51%] \u001b[32mBuilding C object CMakeFiles/asl.dir/src/solvers/bscanf.c.o\u001b[0m\n",
      "[ 52%] \u001b[32mBuilding C object CMakeFiles/asl.dir/src/solvers/com2eval.c.o\u001b[0m\n",
      "[ 53%] \u001b[32mBuilding C object CMakeFiles/asl.dir/src/solvers/comeval.c.o\u001b[0m\n",
      "[ 53%] \u001b[32mBuilding C object CMakeFiles/asl.dir/src/solvers/con1ival.c.o\u001b[0m\n",
      "[ 54%] \u001b[32mBuilding C object CMakeFiles/asl.dir/src/solvers/con2ival.c.o\u001b[0m\n",
      "[ 54%] \u001b[32mBuilding C object CMakeFiles/asl.dir/src/solvers/con2val.c.o\u001b[0m\n",
      "[ 55%] \u001b[32mBuilding C object CMakeFiles/asl.dir/src/solvers/conadj.c.o\u001b[0m\n",
      "[ 56%] \u001b[32mBuilding C object CMakeFiles/asl.dir/src/solvers/conpval.c.o\u001b[0m\n",
      "[ 56%] \u001b[32mBuilding C object CMakeFiles/asl.dir/src/solvers/conscale.c.o\u001b[0m\n",
      "[ 57%] \u001b[32mBuilding C object CMakeFiles/asl.dir/src/solvers/conval.c.o\u001b[0m\n",
      "[ 57%] \u001b[32mBuilding C object CMakeFiles/asl.dir/src/solvers/degree.c.o\u001b[0m\n",
      "[ 58%] \u001b[32mBuilding C object CMakeFiles/asl.dir/src/solvers/derprop.c.o\u001b[0m\n",
      "[ 58%] \u001b[32mBuilding C object CMakeFiles/asl.dir/src/solvers/dtoa1.c.o\u001b[0m\n",
      "[ 59%] \u001b[32mBuilding C object CMakeFiles/asl.dir/src/solvers/duthes.c.o\u001b[0m\n",
      "[ 60%] \u001b[32mBuilding C object CMakeFiles/asl.dir/src/solvers/dynlink.c.o\u001b[0m\n",
      "[ 60%] \u001b[32mBuilding C object CMakeFiles/asl.dir/src/solvers/f_read.c.o\u001b[0m\n",
      "[ 61%] \u001b[32mBuilding C object CMakeFiles/asl.dir/src/solvers/fg_read.c.o\u001b[0m\n",
      "[ 61%] \u001b[32mBuilding C object CMakeFiles/asl.dir/src/solvers/fg_write.c.o\u001b[0m\n",
      "[ 62%] \u001b[32mBuilding C object CMakeFiles/asl.dir/src/solvers/fgh_read.c.o\u001b[0m\n",
      "[ 63%] \u001b[32mBuilding C object CMakeFiles/asl.dir/src/solvers/fpecatch.c.o\u001b[0m\n",
      "[ 63%] \u001b[32mBuilding C object CMakeFiles/asl.dir/src/solvers/fpinit.c.o\u001b[0m\n",
      "[ 64%] \u001b[32mBuilding C object CMakeFiles/asl.dir/src/solvers/fullhes.c.o\u001b[0m\n",
      "[ 64%] \u001b[32mBuilding C object CMakeFiles/asl.dir/src/solvers/func_add.c.o\u001b[0m\n",
      "[ 65%] \u001b[32mBuilding C object CMakeFiles/asl.dir/src/solvers/funcadd1.c.o\u001b[0m\n",
      "[ 66%] \u001b[32mBuilding C object CMakeFiles/asl.dir/src/solvers/g_fmt.c.o\u001b[0m\n",
      "[ 66%] \u001b[32mBuilding C object CMakeFiles/asl.dir/src/solvers/genrowno.c.o\u001b[0m\n",
      "[ 67%] \u001b[32mBuilding C object CMakeFiles/asl.dir/src/solvers/getenv.c.o\u001b[0m\n",
      "[ 67%] \u001b[32mBuilding C object CMakeFiles/asl.dir/src/solvers/getstub.c.o\u001b[0m\n",
      "[ 68%] \u001b[32mBuilding C object CMakeFiles/asl.dir/src/solvers/htcl.c.o\u001b[0m\n",
      "[ 68%] \u001b[32mBuilding C object CMakeFiles/asl.dir/src/solvers/indic_cons.c.o\u001b[0m\n",
      "[ 69%] \u001b[32mBuilding C object CMakeFiles/asl.dir/src/solvers/jac0dim.c.o\u001b[0m\n",
      "[ 70%] \u001b[32mBuilding C object CMakeFiles/asl.dir/src/solvers/jac2dim.c.o\u001b[0m\n",
      "[ 70%] \u001b[32mBuilding C object CMakeFiles/asl.dir/src/solvers/jacdim.c.o\u001b[0m\n",
      "[ 71%] \u001b[32mBuilding C object CMakeFiles/asl.dir/src/solvers/jacinc.c.o\u001b[0m\n",
      "[ 71%] \u001b[32mBuilding C object CMakeFiles/asl.dir/src/solvers/jacinc1.c.o\u001b[0m\n",
      "[ 72%] \u001b[32mBuilding C object CMakeFiles/asl.dir/src/solvers/libnamsave.c.o\u001b[0m\n",
      "[ 73%] \u001b[32mBuilding C object CMakeFiles/asl.dir/src/solvers/mach.c.o\u001b[0m\n",
      "[ 73%] \u001b[32mBuilding C object CMakeFiles/asl.dir/src/solvers/mainexit.c.o\u001b[0m\n",
      "[ 74%] \u001b[32mBuilding C object CMakeFiles/asl.dir/src/solvers/mip_pri.c.o\u001b[0m\n",
      "[ 74%] \u001b[32mBuilding C object CMakeFiles/asl.dir/src/solvers/misc.c.o\u001b[0m\n",
      "[ 75%] \u001b[32mBuilding C object CMakeFiles/asl.dir/src/solvers/mpec_adj.c.o\u001b[0m\n",
      "[ 76%] \u001b[32mBuilding C object CMakeFiles/asl.dir/src/solvers/mqpcheckv.c.o\u001b[0m\n",
      "[ 76%] \u001b[32mBuilding C object CMakeFiles/asl.dir/src/solvers/mypow.c.o\u001b[0m\n",
      "[ 77%] \u001b[32mBuilding C object CMakeFiles/asl.dir/src/solvers/names.c.o\u001b[0m\n",
      "[ 77%] \u001b[32mBuilding C object CMakeFiles/asl.dir/src/solvers/nl_obj.c.o\u001b[0m\n",
      "[ 78%] \u001b[32mBuilding C object CMakeFiles/asl.dir/src/solvers/nqpcheck.c.o\u001b[0m\n",
      "[ 78%] \u001b[32mBuilding C object CMakeFiles/asl.dir/src/solvers/obj2val.c.o\u001b[0m\n",
      "[ 79%] \u001b[32mBuilding C object CMakeFiles/asl.dir/src/solvers/obj_adj.c.o\u001b[0m\n",
      "[ 80%] \u001b[32mBuilding C object CMakeFiles/asl.dir/src/solvers/obj_prec.c.o\u001b[0m\n",
      "[ 80%] \u001b[32mBuilding C object CMakeFiles/asl.dir/src/solvers/objconst.c.o\u001b[0m\n",
      "[ 81%] \u001b[32mBuilding C object CMakeFiles/asl.dir/src/solvers/objval.c.o\u001b[0m\n",
      "[ 81%] \u001b[32mBuilding C object CMakeFiles/asl.dir/src/solvers/objval_.c.o\u001b[0m\n",
      "[ 82%] \u001b[32mBuilding C object CMakeFiles/asl.dir/src/solvers/op_type.c.o\u001b[0m\n",
      "[ 83%] \u001b[32mBuilding C object CMakeFiles/asl.dir/src/solvers/pfg_read.c.o\u001b[0m\n",
      "[ 83%] \u001b[32mBuilding C object CMakeFiles/asl.dir/src/solvers/pfghread.c.o\u001b[0m\n",
      "[ 84%] \u001b[32mBuilding C object CMakeFiles/asl.dir/src/solvers/printf.c.o\u001b[0m\n",
      "[ 84%] \u001b[32mBuilding C object CMakeFiles/asl.dir/src/solvers/pshvprod.c.o\u001b[0m\n",
      "[ 85%] \u001b[32mBuilding C object CMakeFiles/asl.dir/src/solvers/punknown.c.o\u001b[0m\n",
      "[ 86%] \u001b[32mBuilding C object CMakeFiles/asl.dir/src/solvers/qp_read.c.o\u001b[0m\n",
      "[ 86%] \u001b[32mBuilding C object CMakeFiles/asl.dir/src/solvers/qpcheck.c.o\u001b[0m\n",
      "[ 87%] \u001b[32mBuilding C object CMakeFiles/asl.dir/src/solvers/qsortv.c.o\u001b[0m\n",
      "[ 87%] \u001b[32mBuilding C object CMakeFiles/asl.dir/src/solvers/readsol.c.o\u001b[0m\n",
      "[ 88%] \u001b[32mBuilding C object CMakeFiles/asl.dir/src/solvers/repwhere.c.o\u001b[0m\n",
      "[ 88%] \u001b[32mBuilding C object CMakeFiles/asl.dir/src/solvers/rops.c.o\u001b[0m\n",
      "[ 89%] \u001b[32mBuilding C object CMakeFiles/asl.dir/src/solvers/rops2.c.o\u001b[0m\n",
      "[ 90%] \u001b[32mBuilding C object CMakeFiles/asl.dir/src/solvers/sigcatch.c.o\u001b[0m\n",
      "[ 90%] \u001b[32mBuilding C object CMakeFiles/asl.dir/src/solvers/sos_add.c.o\u001b[0m\n",
      "[ 91%] \u001b[32mBuilding C object CMakeFiles/asl.dir/src/solvers/sphes.c.o\u001b[0m\n",
      "[ 91%] \u001b[32mBuilding C object CMakeFiles/asl.dir/src/solvers/sscanf.c.o\u001b[0m\n",
      "[ 92%] \u001b[32mBuilding C object CMakeFiles/asl.dir/src/solvers/stderr.c.o\u001b[0m\n",
      "[ 93%] \u001b[32mBuilding C object CMakeFiles/asl.dir/src/solvers/studchk0.c.o\u001b[0m\n",
      "[ 93%] \u001b[32mBuilding C object CMakeFiles/asl.dir/src/solvers/suf_sos.c.o\u001b[0m\n",
      "[ 94%] \u001b[32mBuilding C object CMakeFiles/asl.dir/src/solvers/value.c.o\u001b[0m\n",
      "[ 94%] \u001b[32mBuilding C object CMakeFiles/asl.dir/src/solvers/writesol.c.o\u001b[0m\n",
      "[ 95%] \u001b[32mBuilding C object CMakeFiles/asl.dir/src/solvers/wrtsol_.c.o\u001b[0m\n",
      "[ 96%] \u001b[32mBuilding C object CMakeFiles/asl.dir/src/solvers/ws_desc.c.o\u001b[0m\n",
      "[ 96%] \u001b[32mBuilding C object CMakeFiles/asl.dir/src/solvers/wsu_desc.c.o\u001b[0m\n",
      "[ 97%] \u001b[32mBuilding C object CMakeFiles/asl.dir/src/solvers/x2check.c.o\u001b[0m\n",
      "[ 97%] \u001b[32mBuilding C object CMakeFiles/asl.dir/src/solvers/xectim.c.o\u001b[0m\n",
      "[ 98%] \u001b[32mBuilding C object CMakeFiles/asl.dir/src/solvers/xp1known.c.o\u001b[0m\n",
      "[ 98%] \u001b[32mBuilding C object CMakeFiles/asl.dir/src/solvers/xp2known.c.o\u001b[0m\n",
      "[ 99%] \u001b[32m\u001b[1mLinking C static library lib/libasl.a\u001b[0m\n",
      "[100%] Built target asl\n",
      "[ 66%] \u001b[34m\u001b[1mPerforming install step for 'ampl_asl'\u001b[0m\n",
      "[  0%] Built target arith-h\n",
      "[ 47%] Built target asl2\n",
      "[100%] Built target asl\n",
      "\u001b[36mInstall the project...\u001b[0m\n",
      "-- Install configuration: \"\"\n",
      "-- Installing: /root/.pyomo/include/asl/arith.h\n",
      "-- Installing: /root/.pyomo/include/asl/asl.h\n",
      "-- Installing: /root/.pyomo/include/asl/asl_pfg.h\n",
      "-- Installing: /root/.pyomo/include/asl/asl_pfgh.h\n",
      "-- Installing: /root/.pyomo/include/asl/avltree.h\n",
      "-- Installing: /root/.pyomo/include/asl/errchk.h\n",
      "-- Installing: /root/.pyomo/include/asl/funcadd.h\n",
      "-- Installing: /root/.pyomo/include/asl/getstub.h\n",
      "-- Installing: /root/.pyomo/include/asl/jac2dim.h\n",
      "-- Installing: /root/.pyomo/include/asl/jacpdim.h\n",
      "-- Installing: /root/.pyomo/include/asl/nlp.h\n",
      "-- Installing: /root/.pyomo/include/asl/nlp2.h\n",
      "-- Installing: /root/.pyomo/include/asl/obj_adj.h\n",
      "-- Installing: /root/.pyomo/include/asl/psinfo.h\n",
      "-- Installing: /root/.pyomo/include/asl/opcode.hd\n",
      "-- Installing: /root/.pyomo/include/asl/r_opn.hd\n",
      "-- Installing: /root/.pyomo/include/asl/stdio1.h\n",
      "-- Up-to-date: /root/.pyomo/include/asl/arith.h\n",
      "-- Installing: /root/.pyomo/include/asl2/arith.h\n",
      "-- Installing: /root/.pyomo/include/asl2/asl.h\n",
      "-- Installing: /root/.pyomo/include/asl2/asl_pfg.h\n",
      "-- Installing: /root/.pyomo/include/asl2/asl_pfgh.h\n",
      "-- Installing: /root/.pyomo/include/asl2/avltree.h\n",
      "-- Installing: /root/.pyomo/include/asl2/errchk.h\n",
      "-- Installing: /root/.pyomo/include/asl2/funcadd.h\n",
      "-- Installing: /root/.pyomo/include/asl2/getstub.h\n",
      "-- Installing: /root/.pyomo/include/asl2/jac2dim.h\n",
      "-- Installing: /root/.pyomo/include/asl2/jacpdim.h\n",
      "-- Installing: /root/.pyomo/include/asl2/nlp.h\n",
      "-- Installing: /root/.pyomo/include/asl2/nlp2.h\n",
      "-- Installing: /root/.pyomo/include/asl2/obj_adj.h\n",
      "-- Installing: /root/.pyomo/include/asl2/opno2.h\n",
      "-- Installing: /root/.pyomo/include/asl2/psinfo.h\n",
      "-- Installing: /root/.pyomo/include/asl2/opcode.hd\n",
      "-- Installing: /root/.pyomo/include/asl2/r_opn.hd\n",
      "-- Installing: /root/.pyomo/include/asl2/stdio1.h\n",
      "-- Up-to-date: /root/.pyomo/include/asl2/arith.h\n",
      "-- Installing: /root/.pyomo/lib/libasl.a\n",
      "-- Installing: /root/.pyomo/lib/libasl2.a\n",
      "-- Installing: /root/.pyomo/share/ampl-asl/ampl-asl-config.cmake\n",
      "-- Installing: /root/.pyomo/share/ampl-asl/ampl-asl-config-noconfig.cmake\n",
      "[ 77%] \u001b[34m\u001b[1mCompleted 'ampl_asl'\u001b[0m\n",
      "[ 77%] Built target ampl_asl\n",
      "\u001b[35m\u001b[1mScanning dependencies of target asl_external_demo\u001b[0m\n",
      "[ 88%] \u001b[32mBuilding C object CMakeFiles/asl_external_demo.dir/functions.c.o\u001b[0m\n",
      "[100%] \u001b[32m\u001b[1mLinking C shared library libasl_external_demo.so\u001b[0m\n",
      "[100%] Built target asl_external_demo\n",
      "\u001b[36mInstall the project...\u001b[0m\n",
      "-- Install configuration: \"\"\n",
      "-- Installing: /root/.pyomo/lib/libasl_external_demo.so\n",
      "Installed AMPL External function demo library to /root/.pyomo\n",
      "\n",
      "\n",
      "**** Building APPSI ****\n",
      "ERROR: ModuleNotFoundError: No module named 'pybind11'\n",
      "\n",
      "**** Building MCPP library ****\n",
      "Found MC++ at /root/.pyomo/src/mcpp\n",
      "   tmpdir = /tmp/tmpr21lhks6\n",
      "/usr/local/lib/python3.11/site-packages/setuptools/command/install.py:34: SetuptoolsDeprecationWarning: setup.py install is deprecated. Use build and pip and other standards-based tools.\n",
      "  warnings.warn(\n",
      "In file included from \u001b[01m\u001b[K/usr/local/lib/python3.11/site-packages/pyomo/contrib/mcpp/mcppInterface.cpp:12\u001b[m\u001b[K:\n",
      "\u001b[01m\u001b[K/root/.pyomo/src/mcpp/src/mc/interval.hpp:449:1:\u001b[m\u001b[K \u001b[01;35m\u001b[Kwarning: \u001b[m\u001b[Kinline variables are only available with ‘\u001b[01m\u001b[K-std=c++17\u001b[m\u001b[K’ or ‘\u001b[01m\u001b[K-std=gnu++17\u001b[m\u001b[K’\n",
      "  449 | \u001b[01;35m\u001b[Kinline\u001b[m\u001b[K Interval::Options Interval::options;\n",
      "      | \u001b[01;35m\u001b[K^~~~~~\u001b[m\u001b[K\n",
      "In file included from \u001b[01m\u001b[K/usr/local/lib/python3.11/site-packages/pyomo/contrib/mcpp/mcppInterface.cpp:13\u001b[m\u001b[K:\n",
      "\u001b[01m\u001b[K/root/.pyomo/src/mcpp/src/mc/mccormick.hpp:1047:23:\u001b[m\u001b[K \u001b[01;35m\u001b[Kwarning: \u001b[m\u001b[Kinline variables are only available with ‘\u001b[01m\u001b[K-std=c++17\u001b[m\u001b[K’ or ‘\u001b[01m\u001b[K-std=gnu++17\u001b[m\u001b[K’\n",
      " 1047 | template <typename T> \u001b[01;35m\u001b[Kinline\u001b[m\u001b[K\n",
      "      |                       \u001b[01;35m\u001b[K^~~~~~\u001b[m\u001b[K\n",
      "\u001b[01m\u001b[K/root/.pyomo/src/mcpp/src/mc/mccormick.hpp:1050:23:\u001b[m\u001b[K \u001b[01;35m\u001b[Kwarning: \u001b[m\u001b[Kinline variables are only available with ‘\u001b[01m\u001b[K-std=c++17\u001b[m\u001b[K’ or ‘\u001b[01m\u001b[K-std=gnu++17\u001b[m\u001b[K’\n",
      " 1050 | template <typename T> \u001b[01;35m\u001b[Kinline\u001b[m\u001b[K\n",
      "      |                       \u001b[01;35m\u001b[K^~~~~~\u001b[m\u001b[K\n",
      "Installed mcppInterface to /root/.pyomo/lib\n",
      "\n",
      "**** Building PyNumero libraries ****\n",
      "-- The C compiler identification is GNU 10.2.1\n",
      "-- The CXX compiler identification is GNU 10.2.1\n",
      "-- Detecting C compiler ABI info\n",
      "-- Detecting C compiler ABI info - done\n",
      "-- Check for working C compiler: /usr/bin/cc - skipped\n",
      "-- Detecting C compile features\n",
      "-- Detecting C compile features - done\n",
      "-- Detecting CXX compiler ABI info\n",
      "-- Detecting CXX compiler ABI info - done\n",
      "-- Check for working CXX compiler: /usr/bin/c++ - skipped\n",
      "-- Detecting CXX compile features\n",
      "-- Detecting CXX compile features - done\n",
      "-- Found PkgConfig: /usr/bin/pkg-config (found version \"0.29.2\") \n",
      "-- Configuring done\n",
      "-- Generating done\n",
      "-- Build files have been written to: /tmp/tmpn_7p6rrv\n",
      "\u001b[35m\u001b[1mScanning dependencies of target pynumero_ASL\u001b[0m\n",
      "[ 25%] \u001b[32mBuilding CXX object CMakeFiles/pynumero_ASL.dir/AmplInterface.cpp.o\u001b[0m\n",
      "[ 50%] \u001b[32m\u001b[1mLinking CXX shared library libpynumero_ASL.so\u001b[0m\n",
      "[ 50%] Built target pynumero_ASL\n",
      "\u001b[35m\u001b[1mScanning dependencies of target pynumero_asl_test\u001b[0m\n",
      "[ 75%] \u001b[32mBuilding CXX object tests/CMakeFiles/pynumero_asl_test.dir/simple_test.cpp.o\u001b[0m\n",
      "[100%] \u001b[32m\u001b[1mLinking CXX executable pynumero_asl_test\u001b[0m\n",
      "[100%] Built target pynumero_asl_test\n",
      "\u001b[36mInstall the project...\u001b[0m\n",
      "-- Install configuration: \"\"\n",
      "-- Installing: /root/.pyomo/lib/libpynumero_ASL.so\n",
      "-- Installing: /root/.pyomo/bin/tests/pynumero_asl_test\n",
      "-- Set runtime path of \"/root/.pyomo/bin/tests/pynumero_asl_test\" to \"\"\n",
      "-- Installing: /root/.pyomo/bin/tests/simple_nlp.nl\n",
      "Installed PyNumero libraries to /root/.pyomo\n",
      "INFO: Finished building Pyomo extensions.\n",
      "INFO: The following extensions were built:\n",
      "    [ OK ]  ampl_function_demo\n",
      "    [FAIL]  appsi\n",
      "    [ OK ]  mcpp\n",
      "    [ OK ]  pynumero\n",
      "    [SKIP]  ginac\n"
     ]
    }
   ],
   "source": [
    "!pyomo build-extensions"
   ]
  },
  {
   "cell_type": "code",
   "execution_count": 5,
   "id": "6020249c-ea54-4273-97d7-4559cc9ef8ed",
   "metadata": {
    "execution": {
     "iopub.execute_input": "2025-04-14T17:48:47.251221Z",
     "iopub.status.busy": "2025-04-14T17:48:47.250780Z",
     "iopub.status.idle": "2025-04-14T17:48:50.257680Z",
     "shell.execute_reply": "2025-04-14T17:48:50.255664Z",
     "shell.execute_reply.started": "2025-04-14T17:48:47.251183Z"
    },
    "scrolled": true
   },
   "outputs": [
    {
     "name": "stdout",
     "output_type": "stream",
     "text": [
      "\n",
      "Pyomo Solvers and Solver Managers\n",
      "---------------------------------\n",
      "Pyomo uses 'solver managers' to execute 'solvers' that perform\n",
      "optimization and other forms of model analysis.  A solver directly\n",
      "executes an optimizer, typically using an executable found on the\n",
      "user's PATH environment.  Solver managers support a flexible mechanism\n",
      "for asynchronously executing solvers either locally or remotely.  The\n",
      "following solver managers are available in Pyomo:\n",
      "\n",
      "    neos       Asynchronously execute solvers on the NEOS server\n",
      "    serial     Synchronously execute solvers locally\n",
      "\n",
      "If no solver manager is specified, Pyomo uses the serial solver\n",
      "manager to execute solvers locally.  The neos solver manager is used\n",
      "to execute solvers on the NEOS optimization server.\n",
      "\n",
      "\n",
      "Serial Solver Interfaces\n",
      "------------------------\n",
      "The serial manager supports the following solver interfaces:\n",
      "\n",
      "    appsi_cbc                   Automated persistent interface to Cbc\n",
      "    appsi_cplex                 Automated persistent interface to\n",
      "                                Cplex\n",
      "    appsi_gurobi                Automated persistent interface to\n",
      "                                Gurobi\n",
      "    appsi_highs                 Automated persistent interface to\n",
      "                                Highs\n",
      "    appsi_ipopt                 Automated persistent interface to\n",
      "                                Ipopt\n",
      "    appsi_maingo                Automated persistent interface to\n",
      "                                MAiNGO\n",
      "   *asl                         Interface for solvers using the AMPL\n",
      "                                Solver Library\n",
      "    baron                       The BARON MINLP solver\n",
      "    cbc                         The CBC LP/MIP solver\n",
      "    conopt                      The CONOPT NLP solver\n",
      "    contrib.gjh                 Interface to the AMPL GJH \"solver\"\n",
      "    cp_optimizer                Direct interface to CPLEX CP Optimizer\n",
      "    cplex                       The CPLEX LP/MIP solver\n",
      "    cplex_direct                Direct python interface to CPLEX\n",
      "    cplex_persistent            Persistent python interface to CPLEX\n",
      "   +cyipopt             1.5     Cyipopt: direct python bindings to the\n",
      "                                Ipopt NLP solver\n",
      "    gams                        The GAMS modeling language\n",
      "   +gdpopt              22.5.13 The GDPopt decomposition-based\n",
      "                                Generalized Disjunctive Programming\n",
      "                                (GDP) solver\n",
      "   +gdpopt.enumerate    22.5.13 Generalized Disjunctive Programming\n",
      "                                (GDP) solver that enumerates all\n",
      "                                discrete solutions\n",
      "   +gdpopt.gloa         22.5.13 The GLOA (global logic-based outer\n",
      "                                approximation) Generalized Disjunctive\n",
      "                                Programming (GDP) solver\n",
      "   +gdpopt.lbb          22.5.13 The LBB (logic-based branch and bound)\n",
      "                                Generalized Disjunctive Programming\n",
      "                                (GDP) solver\n",
      "   +gdpopt.ldsda        22.5.13 The LD-SDA (Logic-based Discrete-\n",
      "                                Steepest Descent Algorithm)\n",
      "                                Generalized Disjunctive Programming\n",
      "                                (GDP) solver\n",
      "   +gdpopt.loa          22.5.13 The LOA (logic-based outer\n",
      "                                approximation) Generalized Disjunctive\n",
      "                                Programming (GDP) solver\n",
      "   +gdpopt.ric          22.5.13 The RIC (relaxation with integer cuts)\n",
      "                                Generalized Disjunctive Programming\n",
      "                                (GDP) solver\n",
      "   +glpk                5.0     The GLPK LP/MIP solver\n",
      "    gurobi                      The GUROBI LP/MIP solver\n",
      "    gurobi_direct               Direct python interface to Gurobi\n",
      "    gurobi_direct_v2            Direct (scipy-based) interface to\n",
      "                                Gurobi (new interface)\n",
      "    gurobi_persistent           Persistent python interface to Gurobi\n",
      "    gurobi_v2                   Persistent interface to Gurobi (new\n",
      "                                interface)\n",
      "    ipopt                       The Ipopt NLP solver\n",
      "    ipopt_v2                    The IPOPT NLP solver (new interface)\n",
      "   +mindtpy             1.0     MindtPy: Mixed-Integer Nonlinear\n",
      "                                Decomposition Toolbox in Pyomo\n",
      "   +mindtpy.ecp         1.0     MindtPy: Mixed-Integer Nonlinear\n",
      "                                Decomposition Toolbox in Pyomo\n",
      "   +mindtpy.fp          1.0     MindtPy: Mixed-Integer Nonlinear\n",
      "                                Decomposition Toolbox in Pyomo\n",
      "   +mindtpy.goa         1.0     MindtPy: Mixed-Integer Nonlinear\n",
      "                                Decomposition Toolbox in Pyomo\n",
      "   +mindtpy.oa          1.0     MindtPy: Mixed-Integer Nonlinear\n",
      "                                Decomposition Toolbox in Pyomo\n",
      "    mosek                       The MOSEK LP/QP/SOCP/MIP solver\n",
      "    mosek_direct                Direct python interface to MOSEK\n",
      "    mosek_persistent            Persistent python interface to MOSEK.\n",
      "   +mpec_minlp                  MPEC solver transforms to a MINLP\n",
      "   +mpec_nlp                    MPEC solver that optimizes a nonlinear\n",
      "                                transformation\n",
      "   +multistart                  MultiStart solver for NLPs\n",
      "    path                        Nonlinear MCP solver\n",
      "   *py                          Direct python solver interfaces\n",
      "    sas                         The SAS LP/MIP solver\n",
      "    scip                        The SCIP LP/MIP solver\n",
      "   +scipy.fsolve        1.15.2  fsolve: A SciPy wrapper around\n",
      "                                MINPACK's hybrd and hybrj algorithms\n",
      "   +scipy.newton        1.15.2  newton: Find a zero of a scalar-valued\n",
      "                                function\n",
      "   +scipy.root          1.15.2  root: Find the root of a vector\n",
      "                                function\n",
      "   +scipy.secant-newton 1.15.2  secant-newton: Take a few secant\n",
      "                                iterations to try to converge a\n",
      "                                potentially linear equation quickly,\n",
      "                                then switch to Newton's method\n",
      "   +trustregion         0.2     Trust region algorithm \"solver\" for\n",
      "                                black box/glass box optimization\n",
      "    xpress                      The XPRESS LP/MIP solver\n",
      "    xpress_direct               Direct python interface to XPRESS\n",
      "    xpress_persistent           Persistent python interface to Xpress\n",
      "\n",
      "The leading symbol (one of *, -, +) indicates the current solver\n",
      "availability.  A plus (+) indicates the solver is currently available\n",
      "to be run from Pyomo with the serial solver manager, and (if\n",
      "applicable) has a valid license.  A minus (-) indicates the solver\n",
      "executables are available but do not report having a valid license.\n",
      "The solver may still be usable in an unlicensed or \"demo\" mode for\n",
      "limited problem sizes. An asterisk (*) indicates meta-solvers or\n",
      "generic interfaces, which are always available.\n",
      "\n",
      "Pyomo also supports solver interfaces that are wrappers around third-\n",
      "party solver interfaces. These interfaces require a subsolver\n",
      "specification that indicates the solver being executed.  For example,\n",
      "the following indicates that the ipopt solver will be used:\n",
      "\n",
      "   asl:ipopt\n",
      "\n",
      "The asl interface provides a generic wrapper for all solvers that use\n",
      "the AMPL Solver Library.\n",
      "\n",
      "Note that subsolvers can not be enumerated automatically for these\n",
      "interfaces.  However, if a solver is specified that is not found,\n",
      "Pyomo assumes that the asl solver interface is being used.  Thus the\n",
      "following solver name will launch ipopt if the 'ipopt' executable is\n",
      "on the user's path:\n",
      "\n",
      "   ipopt\n",
      "\n",
      "\n",
      "NEOS Solver Interfaces\n",
      "----------------------\n",
      "The neos solver manager supports solver interfaces that can be\n",
      "executed remotely on the NEOS optimization server.  The following\n",
      "solver interfaces are available with your current system\n",
      "configuration:\n",
      "\n",
      "    bonmin       Heuristic MINLP solver\n",
      "    cbc          MILP solver\n",
      "    conopt       Feasible path NLP solver\n",
      "    couenne      Deterministic global MINLP solver\n",
      "    cplex        MILP solver\n",
      "    filmint      Heuristic MINLP solver\n",
      "    filter       SQP NLP solver\n",
      "    ipopt        Interior point NLP solver\n",
      "    knitro       Convex MINLP solver\n",
      "    l-bfgs-b     Bound-constrained NLP solver\n",
      "    lancelot     Augmented Lagrangian NLP solver\n",
      "    lgo          Lipschitz-Continuous Global Optimizer\n",
      "    loqo         Interior point NLP solver\n",
      "    minlp        Heuristic MINLP solver\n",
      "    minos        SLC NLP solver\n",
      "    minto        MILP solver\n",
      "    mosek        Interior point NLP solver\n",
      "    ooqp         Convex QP solver\n",
      "    path         Nonlinear MCP solver\n",
      "    raposa       A Global Solver for Polynomial Programming Problems\n",
      "    snopt        SQP NLP solver\n",
      "\n"
     ]
    }
   ],
   "source": [
    "!pyomo help --solvers"
   ]
  },
  {
   "cell_type": "markdown",
   "id": "00b7ec57-5bfe-4b9b-8901-b675a80604ed",
   "metadata": {
    "jp-MarkdownHeadingCollapsed": true
   },
   "source": [
    "# Test of pyomo\n",
    "\n",
    "https://pyomo.readthedocs.io/en/6.8.0/contributed_packages/mindtpy.html"
   ]
  },
  {
   "cell_type": "code",
   "execution_count": 6,
   "id": "69f27f08-9c5b-4b49-859a-12b47ff0a5cb",
   "metadata": {
    "execution": {
     "iopub.execute_input": "2025-04-03T17:27:39.079205Z",
     "iopub.status.busy": "2025-04-03T17:27:39.078905Z",
     "iopub.status.idle": "2025-04-03T17:27:39.442294Z",
     "shell.execute_reply": "2025-04-03T17:27:39.439923Z",
     "shell.execute_reply.started": "2025-04-03T17:27:39.079176Z"
    }
   },
   "outputs": [],
   "source": [
    "from pyomo.environ import ConcreteModel, Var, Binary, Constraint, Objective, SolverFactory, log, minimize"
   ]
  },
  {
   "cell_type": "code",
   "execution_count": 7,
   "id": "1e7f289a-0a81-41f4-a35e-24f029ca25f2",
   "metadata": {
    "execution": {
     "iopub.execute_input": "2025-04-03T17:27:39.444545Z",
     "iopub.status.busy": "2025-04-03T17:27:39.443861Z",
     "iopub.status.idle": "2025-04-03T17:27:39.466287Z",
     "shell.execute_reply": "2025-04-03T17:27:39.465075Z",
     "shell.execute_reply.started": "2025-04-03T17:27:39.444500Z"
    }
   },
   "outputs": [
    {
     "data": {
      "text/plain": [
       "True"
      ]
     },
     "execution_count": 7,
     "metadata": {},
     "output_type": "execute_result"
    }
   ],
   "source": [
    "SolverFactory(\"glpk\").available()"
   ]
  },
  {
   "cell_type": "code",
   "execution_count": 8,
   "id": "c29fd620-925e-4933-9bf1-e0fed0134534",
   "metadata": {
    "execution": {
     "iopub.execute_input": "2025-04-03T17:27:39.467871Z",
     "iopub.status.busy": "2025-04-03T17:27:39.467442Z",
     "iopub.status.idle": "2025-04-03T17:27:40.079344Z",
     "shell.execute_reply": "2025-04-03T17:27:40.078099Z",
     "shell.execute_reply.started": "2025-04-03T17:27:39.467842Z"
    }
   },
   "outputs": [
    {
     "data": {
      "text/plain": [
       "True"
      ]
     },
     "execution_count": 8,
     "metadata": {},
     "output_type": "execute_result"
    }
   ],
   "source": [
    "SolverFactory(\"cyipopt\").available()"
   ]
  },
  {
   "cell_type": "code",
   "execution_count": 9,
   "id": "f2e872fb-1340-4deb-a31f-64e1eb8062b4",
   "metadata": {
    "execution": {
     "iopub.execute_input": "2025-04-03T17:27:40.081194Z",
     "iopub.status.busy": "2025-04-03T17:27:40.080513Z",
     "iopub.status.idle": "2025-04-03T17:27:40.090412Z",
     "shell.execute_reply": "2025-04-03T17:27:40.088474Z",
     "shell.execute_reply.started": "2025-04-03T17:27:40.081164Z"
    }
   },
   "outputs": [],
   "source": [
    "model = ConcreteModel()\n",
    "\n",
    "model.x = Var(bounds=(1.0,10.0),initialize=5.0)\n",
    "model.y = Var(within=Binary)\n",
    "\n",
    "model.c1 = Constraint(expr=(model.x-4.0)**2 - model.x <= 50.0*(1-model.y))\n",
    "model.c2 = Constraint(expr=model.x*log(model.x)+5.0 <= 50.0*(model.y))\n",
    "\n",
    "model.objective = Objective(expr=model.x, sense=minimize)"
   ]
  },
  {
   "cell_type": "code",
   "execution_count": 10,
   "id": "a8a57aac-599b-474b-9805-35e1ebce234b",
   "metadata": {
    "execution": {
     "iopub.execute_input": "2025-04-03T17:27:40.094757Z",
     "iopub.status.busy": "2025-04-03T17:27:40.093718Z",
     "iopub.status.idle": "2025-04-03T17:27:40.437185Z",
     "shell.execute_reply": "2025-04-03T17:27:40.436176Z",
     "shell.execute_reply.started": "2025-04-03T17:27:40.094728Z"
    }
   },
   "outputs": [
    {
     "name": "stderr",
     "output_type": "stream",
     "text": [
      "/usr/local/lib/python3.11/site-packages/pyomo/contrib/mindtpy/algorithm_base_class.py:531: RuntimeWarning: invalid value encountered in scalar divide\n",
      "  self.rel_gap = self.abs_gap / (abs(self.primal_bound) + 1e-10)\n"
     ]
    }
   ],
   "source": [
    "#SolverFactory(\"mindtpy\").solve(model, mip_solver=\"glpk\", nlp_solver=\"ipopt\") \n",
    "sol = SolverFactory(\"mindtpy\").solve(model, mip_solver=\"glpk\", nlp_solver=\"cyipopt\") "
   ]
  },
  {
   "cell_type": "code",
   "execution_count": 11,
   "id": "7cb08dfb-bb89-4a25-8bc0-edf4ac6e261a",
   "metadata": {
    "execution": {
     "iopub.execute_input": "2025-04-03T17:27:40.438198Z",
     "iopub.status.busy": "2025-04-03T17:27:40.437935Z",
     "iopub.status.idle": "2025-04-03T17:27:40.445120Z",
     "shell.execute_reply": "2025-04-03T17:27:40.443658Z",
     "shell.execute_reply.started": "2025-04-03T17:27:40.438179Z"
    }
   },
   "outputs": [
    {
     "data": {
      "text/plain": [
       "['Problem', 'Solver', 'Solution']"
      ]
     },
     "execution_count": 11,
     "metadata": {},
     "output_type": "execute_result"
    }
   ],
   "source": [
    "sol.keys()"
   ]
  },
  {
   "cell_type": "code",
   "execution_count": 12,
   "id": "d30836cd-0932-4765-888f-9552a914191e",
   "metadata": {
    "execution": {
     "iopub.execute_input": "2025-04-03T17:27:40.446437Z",
     "iopub.status.busy": "2025-04-03T17:27:40.446127Z",
     "iopub.status.idle": "2025-04-03T17:27:40.452251Z",
     "shell.execute_reply": "2025-04-03T17:27:40.450486Z",
     "shell.execute_reply.started": "2025-04-03T17:27:40.446418Z"
    }
   },
   "outputs": [
    {
     "name": "stdout",
     "output_type": "stream",
     "text": [
      "Category 'Problem' has the following options: \n",
      "['Name', 'Lower bound', 'Upper bound', 'Number of objectives', 'Number of constraints', 'Number of variables', 'Number of binary variables', 'Number of integer variables', 'Number of continuous variables', 'Number of nonzeros', 'Sense', 'Number of disjunctions']\n",
      "\n",
      "\n",
      "Category 'Solver' has the following options: \n",
      "['Name', 'Status', 'Return code', 'Message', 'User time', 'System time', 'Wallclock time', 'Termination condition', 'Termination message', 'Statistics', 'Timing', 'Iterations', 'Num infeasible nlp subproblem', 'Best solution found time', 'Primal integral', 'Dual integral', 'Primal dual gap integral']\n",
      "\n",
      "\n",
      "Category 'Solution' has the following options: \n",
      "['Gap', 'Status', 'Message', 'Problem', 'Objective', 'Variable', 'Constraint']\n",
      "\n",
      "\n"
     ]
    }
   ],
   "source": [
    "for key, item in sol.items():\n",
    "    print(f\"Category '{key}' has the following options: \\n{item.keys()}\\n\\n\")"
   ]
  },
  {
   "cell_type": "code",
   "execution_count": 13,
   "id": "fa43c710-d2cd-4995-b95e-34963c6f0705",
   "metadata": {
    "execution": {
     "iopub.execute_input": "2025-04-03T17:27:40.454863Z",
     "iopub.status.busy": "2025-04-03T17:27:40.454353Z",
     "iopub.status.idle": "2025-04-03T17:27:40.461467Z",
     "shell.execute_reply": "2025-04-03T17:27:40.460449Z",
     "shell.execute_reply.started": "2025-04-03T17:27:40.454834Z"
    }
   },
   "outputs": [
    {
     "name": "stdout",
     "output_type": "stream",
     "text": [
      "Status: unknown\n",
      "Objective: No values\n",
      "Variable: No values\n",
      "Constraint: No values\n",
      "\n"
     ]
    }
   ],
   "source": [
    "for kk in sol['Solution']:\n",
    "    print(kk)"
   ]
  },
  {
   "cell_type": "code",
   "execution_count": 14,
   "id": "9eeb8590-8933-492e-8d2b-0981b01b6782",
   "metadata": {
    "execution": {
     "iopub.execute_input": "2025-04-03T17:27:40.462763Z",
     "iopub.status.busy": "2025-04-03T17:27:40.462486Z",
     "iopub.status.idle": "2025-04-03T17:27:40.475523Z",
     "shell.execute_reply": "2025-04-03T17:27:40.473612Z",
     "shell.execute_reply.started": "2025-04-03T17:27:40.462742Z"
    }
   },
   "outputs": [
    {
     "data": {
      "text/plain": [
       "{'Problem': [{'Name': 'unknown', 'Lower bound': 2.43844718719117, 'Upper bound': np.float64(2.4384471872707754), 'Number of objectives': 1, 'Number of constraints': 2, 'Number of variables': 2, 'Number of binary variables': 1, 'Number of integer variables': 0, 'Number of continuous variables': 1, 'Number of nonzeros': None, 'Sense': 'minimize', 'Number of disjunctions': 0}], 'Solver': [{'Name': 'MindtPyOA', 'Status': 'ok', 'Message': None, 'User time': 0.32538530899910256, 'Wallclock time': 0.32538530899910256, 'Termination condition': 'optimal', 'Termination message': None, 'Timing': Bunch(Call after main solve = 1.8904996977653354e-05, Call after subproblem solve = 9.7439915407449e-06, Call before subproblem solve = 7.5699936132878065e-06, OA cut generation = 0.001857228999142535, feasibility subproblem = 0.03912882700387854, fixed subproblem = 0.03912669999408536, initialization = 0.18830141799844569, main = 0.028370097003062256, main loop = 0.11165958199853776, main_timer_start_time = 60403.495250408, total = 0.32538530899910256), 'Iterations': 3, 'Num infeasible nlp subproblem': 1, 'Best solution found time': 0.3178009960029158, 'Primal integral': np.float64(0.0), 'Dual integral': np.float64(0.43336679397910766), 'Primal dual gap integral': np.float64(0.43336679397910766)}], 'Solution': [OrderedDict([('number of solutions', 1), ('number of solutions displayed', 1)]), {'Status': 'unknown', 'Problem': {}, 'Objective': {}, 'Variable': {}, 'Constraint': {}}]}"
      ]
     },
     "execution_count": 14,
     "metadata": {},
     "output_type": "execute_result"
    }
   ],
   "source": [
    "sol"
   ]
  },
  {
   "cell_type": "code",
   "execution_count": 15,
   "id": "f977f25b-4c1b-4384-82ec-2de9d49f5c1d",
   "metadata": {
    "execution": {
     "iopub.execute_input": "2025-04-03T17:27:40.477210Z",
     "iopub.status.busy": "2025-04-03T17:27:40.476822Z",
     "iopub.status.idle": "2025-04-03T17:27:40.485343Z",
     "shell.execute_reply": "2025-04-03T17:27:40.483396Z",
     "shell.execute_reply.started": "2025-04-03T17:27:40.477186Z"
    }
   },
   "outputs": [
    {
     "name": "stdout",
     "output_type": "stream",
     "text": [
      "objective : Size=1, Index=None, Active=True\n",
      "    Key  : Active : Value\n",
      "    None :   True : 2.4384471872707754\n"
     ]
    }
   ],
   "source": [
    "model.objective.display()"
   ]
  },
  {
   "cell_type": "code",
   "execution_count": 16,
   "id": "3f590f3c-980e-445c-b14a-87df7ac7c8bd",
   "metadata": {
    "execution": {
     "iopub.execute_input": "2025-04-03T17:27:40.488781Z",
     "iopub.status.busy": "2025-04-03T17:27:40.487443Z",
     "iopub.status.idle": "2025-04-03T17:27:40.500040Z",
     "shell.execute_reply": "2025-04-03T17:27:40.497498Z",
     "shell.execute_reply.started": "2025-04-03T17:27:40.488746Z"
    }
   },
   "outputs": [
    {
     "name": "stdout",
     "output_type": "stream",
     "text": [
      "Model unknown\n",
      "\n",
      "  Variables:\n",
      "    x : Size=1, Index=None\n",
      "        Key  : Lower : Value              : Upper : Fixed : Stale : Domain\n",
      "        None :   1.0 : 2.4384471872707754 :  10.0 : False : False :  Reals\n",
      "    y : Size=1, Index=None\n",
      "        Key  : Lower : Value : Upper : Fixed : Stale : Domain\n",
      "        None :     0 :   1.0 :     1 : False : False : Binary\n",
      "\n",
      "  Objectives:\n",
      "    objective : Size=1, Index=None, Active=True\n",
      "        Key  : Active : Value\n",
      "        None :   True : 2.4384471872707754\n",
      "\n",
      "  Constraints:\n",
      "    c1 : Size=1\n",
      "        Key  : Lower : Body                    : Upper\n",
      "        None :  None : -3.2822233819729263e-10 :   0.0\n",
      "    c2 : Size=1\n",
      "        Key  : Lower : Body               : Upper\n",
      "        None :  None : -42.82646220852581 :   0.0\n"
     ]
    }
   ],
   "source": [
    "model.display()"
   ]
  },
  {
   "cell_type": "code",
   "execution_count": 17,
   "id": "e17e4d62-1434-4668-82f5-763a2545fef6",
   "metadata": {
    "execution": {
     "iopub.execute_input": "2025-04-03T17:27:40.501795Z",
     "iopub.status.busy": "2025-04-03T17:27:40.501284Z",
     "iopub.status.idle": "2025-04-03T17:27:40.514270Z",
     "shell.execute_reply": "2025-04-03T17:27:40.512338Z",
     "shell.execute_reply.started": "2025-04-03T17:27:40.501766Z"
    }
   },
   "outputs": [
    {
     "name": "stdout",
     "output_type": "stream",
     "text": [
      "2 Var Declarations\n",
      "    x : Size=1, Index=None\n",
      "        Key  : Lower : Value              : Upper : Fixed : Stale : Domain\n",
      "        None :   1.0 : 2.4384471872707754 :  10.0 : False : False :  Reals\n",
      "    y : Size=1, Index=None\n",
      "        Key  : Lower : Value : Upper : Fixed : Stale : Domain\n",
      "        None :     0 :   1.0 :     1 : False : False : Binary\n",
      "\n",
      "1 Objective Declarations\n",
      "    objective : Size=1, Index=None, Active=True\n",
      "        Key  : Active : Sense    : Expression\n",
      "        None :   True : minimize :          x\n",
      "\n",
      "2 Constraint Declarations\n",
      "    c1 : Size=1, Index=None, Active=True\n",
      "        Key  : Lower : Body                            : Upper : Active\n",
      "        None :  -Inf : (x - 4.0)**2 - x - 50.0*(1 - y) :   0.0 :   True\n",
      "    c2 : Size=1, Index=None, Active=True\n",
      "        Key  : Lower : Body                    : Upper : Active\n",
      "        None :  -Inf : x*log(x) + 5.0 - 50.0*y :   0.0 :   True\n",
      "\n",
      "5 Declarations: x y c1 c2 objective\n"
     ]
    }
   ],
   "source": [
    "model.pprint()"
   ]
  },
  {
   "cell_type": "markdown",
   "id": "7552dcad-7203-420e-bec5-c69910163513",
   "metadata": {
    "jp-MarkdownHeadingCollapsed": true
   },
   "source": [
    "# TUM MIP w/ pyomo tutorial\n",
    "\n",
    "https://www.math.cit.tum.de/fileadmin/w00ccg/math/personen/discrete_math/Andreas_Wiese/MIP-coding-cookbook.pdf"
   ]
  },
  {
   "cell_type": "markdown",
   "id": "fcaf664e-bad7-4e15-b145-f30d5c3565f6",
   "metadata": {},
   "source": [
    "## Example for a simple MIP (section 1.1)"
   ]
  },
  {
   "cell_type": "code",
   "execution_count": 27,
   "id": "c9ae334b-fc4a-4aba-b362-f7cf860560df",
   "metadata": {
    "execution": {
     "iopub.execute_input": "2025-04-03T17:36:30.232929Z",
     "iopub.status.busy": "2025-04-03T17:36:30.232321Z",
     "iopub.status.idle": "2025-04-03T17:36:30.240035Z",
     "shell.execute_reply": "2025-04-03T17:36:30.237999Z",
     "shell.execute_reply.started": "2025-04-03T17:36:30.232865Z"
    }
   },
   "outputs": [],
   "source": [
    "import pyomo.environ as pyo"
   ]
  },
  {
   "cell_type": "code",
   "execution_count": 30,
   "id": "a77c1e29-4071-4e3e-89d9-3e9aca1e28f3",
   "metadata": {
    "execution": {
     "iopub.execute_input": "2025-04-03T17:37:26.403162Z",
     "iopub.status.busy": "2025-04-03T17:37:26.402643Z",
     "iopub.status.idle": "2025-04-03T17:37:26.413014Z",
     "shell.execute_reply": "2025-04-03T17:37:26.412113Z",
     "shell.execute_reply.started": "2025-04-03T17:37:26.403121Z"
    }
   },
   "outputs": [],
   "source": [
    "model = pyo.ConcreteModel()\n",
    "\n",
    "model.x1 = pyo.Var(within=pyo.PositiveIntegers)\n",
    "model.x2 = pyo.Var(within=pyo.PositiveIntegers)\n",
    "\n",
    "model.c1 = pyo.Constraint(expr=2*model.x1 + 3*model.x2 <= 18)\n",
    "model.c2 = pyo.Constraint(expr=4*model.x1 + 3*model.x2 <= 24)\n",
    "\n",
    "model.objective = pyo.Objective(expr=model.x1 + model.x2, sense=pyo.maximize)"
   ]
  },
  {
   "cell_type": "code",
   "execution_count": 31,
   "id": "0e98fa56-f77d-4d51-af65-c5357d03c88d",
   "metadata": {
    "execution": {
     "iopub.execute_input": "2025-04-03T17:37:31.257241Z",
     "iopub.status.busy": "2025-04-03T17:37:31.256591Z",
     "iopub.status.idle": "2025-04-03T17:37:31.273582Z",
     "shell.execute_reply": "2025-04-03T17:37:31.272105Z",
     "shell.execute_reply.started": "2025-04-03T17:37:31.257211Z"
    }
   },
   "outputs": [
    {
     "data": {
      "text/plain": [
       "{'Problem': [{'Name': 'unknown', 'Lower bound': 7.0, 'Upper bound': 7.0, 'Number of objectives': 1, 'Number of constraints': 2, 'Number of variables': 2, 'Number of nonzeros': 4, 'Sense': 'maximize'}], 'Solver': [{'Status': 'ok', 'Termination condition': 'optimal', 'Statistics': {'Branch and bound': {'Number of bounded subproblems': '1', 'Number of created subproblems': '1'}}, 'Error rc': 0, 'Time': 0.00399327278137207}], 'Solution': [OrderedDict([('number of solutions', 0), ('number of solutions displayed', 0)])]}"
      ]
     },
     "execution_count": 31,
     "metadata": {},
     "output_type": "execute_result"
    }
   ],
   "source": [
    "solver = pyo.SolverFactory(\"glpk\")  # or \"cbc\", \"gurobi\" if available\n",
    "solver.solve(model)"
   ]
  },
  {
   "cell_type": "code",
   "execution_count": 32,
   "id": "8746d4e2-ea8f-4516-9f2b-914c286cd5db",
   "metadata": {
    "execution": {
     "iopub.execute_input": "2025-04-03T17:37:39.352762Z",
     "iopub.status.busy": "2025-04-03T17:37:39.351437Z",
     "iopub.status.idle": "2025-04-03T17:37:39.363312Z",
     "shell.execute_reply": "2025-04-03T17:37:39.361779Z",
     "shell.execute_reply.started": "2025-04-03T17:37:39.352723Z"
    }
   },
   "outputs": [
    {
     "name": "stdout",
     "output_type": "stream",
     "text": [
      "Model unknown\n",
      "\n",
      "  Variables:\n",
      "    x1 : Size=1, Index=None\n",
      "        Key  : Lower : Value : Upper : Fixed : Stale : Domain\n",
      "        None :     1 :   3.0 :  None : False : False : PositiveIntegers\n",
      "    x2 : Size=1, Index=None\n",
      "        Key  : Lower : Value : Upper : Fixed : Stale : Domain\n",
      "        None :     1 :   4.0 :  None : False : False : PositiveIntegers\n",
      "\n",
      "  Objectives:\n",
      "    objective : Size=1, Index=None, Active=True\n",
      "        Key  : Active : Value\n",
      "        None :   True :   7.0\n",
      "\n",
      "  Constraints:\n",
      "    c1 : Size=1\n",
      "        Key  : Lower : Body : Upper\n",
      "        None :  None : 18.0 :  18.0\n",
      "    c2 : Size=1\n",
      "        Key  : Lower : Body : Upper\n",
      "        None :  None : 24.0 :  24.0\n"
     ]
    }
   ],
   "source": [
    "model.display()"
   ]
  },
  {
   "cell_type": "markdown",
   "id": "8a965a7a-4b74-4405-8184-431cf879ed9d",
   "metadata": {},
   "source": [
    "## Solving a simple MIP (section 4)"
   ]
  },
  {
   "cell_type": "code",
   "execution_count": 100,
   "id": "029c93fa-96c0-490b-b0a7-bd00fab880d9",
   "metadata": {
    "execution": {
     "iopub.execute_input": "2025-04-03T19:04:45.277523Z",
     "iopub.status.busy": "2025-04-03T19:04:45.277085Z",
     "iopub.status.idle": "2025-04-03T19:04:45.300031Z",
     "shell.execute_reply": "2025-04-03T19:04:45.298726Z",
     "shell.execute_reply.started": "2025-04-03T19:04:45.277436Z"
    }
   },
   "outputs": [],
   "source": [
    "import pyomo.environ as pyo\n",
    "\n",
    "m = pyo.ConcreteModel()\n",
    "\n",
    "m.x1 = pyo.Var(domain=pyo.NonNegativeReals)\n",
    "m.x2 = pyo.Var(domain=pyo.NonPositiveReals)\n",
    "m.x3 = pyo.Var(domain=pyo.NonNegativeIntegers)\n",
    "m.x4 = pyo.Var(domain=pyo.Reals)\n",
    "m.x5 = pyo.Var(domain=pyo.Binary)\n",
    "m.y = pyo.Var([1,2], domain=pyo.NonNegativeReals)\n",
    "\n",
    "m.constr1 = pyo.Constraint(expr=2*m.x1 + 3*m.x2 -4*m.x3 +m.x4 +m.x5 + m.y[1] <= 180)\n",
    "m.constr2 = pyo.Constraint(expr=4*m.x1 + 3*m.x2 -4*m.x4 +m.x5 - m.y[2] >= -240)\n",
    "m.constr3 = pyo.Constraint(expr=5*m.x1 + 2*m.x2 -5*m.x4 +m.x5 == 120)\n",
    "\n",
    "m.obj = pyo.Objective(expr=m.x1 + 5*m.x2 + 3*m.x3 - m.x5, sense = pyo.minimize)\n",
    "\n",
    "solver=pyomo.opt.SolverFactory('glpk')\n",
    "results=solver.solve(m)"
   ]
  },
  {
   "cell_type": "code",
   "execution_count": 105,
   "id": "fb345ae7-8887-49ae-a84d-0e923da5bb5c",
   "metadata": {
    "execution": {
     "iopub.execute_input": "2025-04-03T19:05:27.293981Z",
     "iopub.status.busy": "2025-04-03T19:05:27.293023Z",
     "iopub.status.idle": "2025-04-03T19:05:27.304024Z",
     "shell.execute_reply": "2025-04-03T19:05:27.302219Z",
     "shell.execute_reply.started": "2025-04-03T19:05:27.293946Z"
    }
   },
   "outputs": [
    {
     "name": "stdout",
     "output_type": "stream",
     "text": [
      "x1 : Size=1, Index=None\n",
      "    Key  : Lower : Value : Upper : Fixed : Stale : Domain\n",
      "    None :     0 :   0.0 :  None : False : False : NonNegativeReals\n"
     ]
    }
   ],
   "source": [
    "m.x1.display()"
   ]
  },
  {
   "cell_type": "code",
   "execution_count": 101,
   "id": "62a58116-c9f7-44c5-abe9-d6a563b57aad",
   "metadata": {
    "execution": {
     "iopub.execute_input": "2025-04-03T19:04:45.938185Z",
     "iopub.status.busy": "2025-04-03T19:04:45.937776Z",
     "iopub.status.idle": "2025-04-03T19:04:45.947061Z",
     "shell.execute_reply": "2025-04-03T19:04:45.945297Z",
     "shell.execute_reply.started": "2025-04-03T19:04:45.938154Z"
    }
   },
   "outputs": [
    {
     "name": "stdout",
     "output_type": "stream",
     "text": [
      "Model unknown\n",
      "\n",
      "  Variables:\n",
      "    x1 : Size=1, Index=None\n",
      "        Key  : Lower : Value : Upper : Fixed : Stale : Domain\n",
      "        None :     0 :   0.0 :  None : False : False : NonNegativeReals\n",
      "    x2 : Size=1, Index=None\n",
      "        Key  : Lower : Value             : Upper : Fixed : Stale : Domain\n",
      "        None :  None : -240.142857142857 :     0 : False : False : NonPositiveReals\n",
      "    x3 : Size=1, Index=None\n",
      "        Key  : Lower : Value : Upper : Fixed : Stale : Domain\n",
      "        None :     0 :   0.0 :  None : False : False : NonNegativeIntegers\n",
      "    x4 : Size=1, Index=None\n",
      "        Key  : Lower : Value             : Upper : Fixed : Stale : Domain\n",
      "        None :  None : -119.857142857143 :  None : False : False :  Reals\n",
      "    x5 : Size=1, Index=None\n",
      "        Key  : Lower : Value : Upper : Fixed : Stale : Domain\n",
      "        None :     0 :   1.0 :     1 : False : False : Binary\n",
      "    y : Size=2, Index={1, 2}\n",
      "        Key : Lower : Value : Upper : Fixed : Stale : Domain\n",
      "          1 :     0 :   0.0 :  None : False : False : NonNegativeReals\n",
      "          2 :     0 :   0.0 :  None : False : False : NonNegativeReals\n",
      "\n",
      "  Objectives:\n",
      "    obj : Size=1, Index=None, Active=True\n",
      "        Key  : Active : Value\n",
      "        None :   True : -1201.7142857142849\n",
      "\n",
      "  Constraints:\n",
      "    constr1 : Size=1\n",
      "        Key  : Lower : Body              : Upper\n",
      "        None :  None : -839.285714285714 : 180.0\n",
      "    constr2 : Size=1\n",
      "        Key  : Lower  : Body                : Upper\n",
      "        None : -240.0 : -239.99999999999898 :  None\n",
      "    constr3 : Size=1\n",
      "        Key  : Lower : Body               : Upper\n",
      "        None : 120.0 : 120.00000000000102 : 120.0\n"
     ]
    }
   ],
   "source": [
    "m.display()"
   ]
  },
  {
   "cell_type": "markdown",
   "id": "76dacc0d-bdd8-4cb2-b07b-e95c9e7d2490",
   "metadata": {},
   "source": [
    "# Permutation matrix"
   ]
  },
  {
   "cell_type": "code",
   "execution_count": 7,
   "id": "c8a64994-d234-43cd-9dee-cf1b147110d9",
   "metadata": {
    "execution": {
     "iopub.execute_input": "2025-04-14T18:21:42.153015Z",
     "iopub.status.busy": "2025-04-14T18:21:42.146874Z",
     "iopub.status.idle": "2025-04-14T18:21:42.176262Z",
     "shell.execute_reply": "2025-04-14T18:21:42.173609Z",
     "shell.execute_reply.started": "2025-04-14T18:21:42.152952Z"
    }
   },
   "outputs": [
    {
     "data": {
      "text/plain": [
       "(array([[ 4, 14, 13],\n",
       "        [14,  9,  9],\n",
       "        [ 1, 16,  8]]),\n",
       " array([[0, 1, 0],\n",
       "        [0, 0, 1],\n",
       "        [1, 0, 0]]),\n",
       " array([[0, 1, 0],\n",
       "        [0, 0, 1],\n",
       "        [1, 0, 0]]),\n",
       " array([[ 9, 14,  9],\n",
       "        [ 8,  1, 16],\n",
       "        [13,  4, 14]]))"
      ]
     },
     "execution_count": 7,
     "metadata": {},
     "output_type": "execute_result"
    }
   ],
   "source": [
    "import numpy as np\n",
    "import random\n",
    "\n",
    "dim = 3\n",
    "A = np.random.randint(0, 2*dim**2, size=dim**2, dtype=int).reshape(dim, dim)\n",
    "\n",
    "p = list(range(dim))\n",
    "random.shuffle(p)\n",
    "P1 = np.zeros((dim, dim), dtype=int)\n",
    "for row, col in enumerate(p):\n",
    "    P1[row, col] = 1\n",
    "\n",
    "p = list(range(dim))\n",
    "random.shuffle(p)\n",
    "P2 = np.zeros((dim, dim), dtype=int)\n",
    "for row, col in enumerate(p):\n",
    "    P2[row, col] = 1\n",
    "\n",
    "A_perm = np.dot(np.dot(P1, A), P2)\n",
    "\n",
    "A, P1, P2, A_perm"
   ]
  },
  {
   "cell_type": "code",
   "execution_count": 8,
   "id": "e5530fa9-408d-4711-8f88-a1fe7d95ff0f",
   "metadata": {
    "execution": {
     "iopub.execute_input": "2025-04-14T18:30:46.531946Z",
     "iopub.status.busy": "2025-04-14T18:30:46.531532Z",
     "iopub.status.idle": "2025-04-14T18:30:47.352340Z",
     "shell.execute_reply": "2025-04-14T18:30:47.351016Z",
     "shell.execute_reply.started": "2025-04-14T18:30:46.531916Z"
    }
   },
   "outputs": [],
   "source": [
    "import pyomo.environ as pyo\n",
    "\n",
    "# Pyomo Model\n",
    "model = pyo.ConcreteModel()\n",
    "\n",
    "# Sets\n",
    "model.I = pyo.RangeSet(dim)  # Rows\n",
    "model.J = pyo.RangeSet(dim)  # Columns\n",
    "\n",
    "# Variables (Binary Permutation Matrices)\n",
    "model.P1 = pyo.Var(model.I, model.J, within=pyo.Binary)\n",
    "model.P2 = pyo.Var(model.I, model.J, within=pyo.Binary)\n",
    "\n",
    "# Constraints: Row and Column Sums = 1 for P1 and P2\n",
    "model.row_sum_p1 = pyo.Constraint(model.I, rule=lambda model, i: sum(model.P1[i, j] for j in model.J) == 1)\n",
    "model.col_sum_p1 = pyo.Constraint(model.J, rule=lambda model, j: sum(model.P1[i, j] for i in model.I) == 1)\n",
    "model.row_sum_p2 = pyo.Constraint(model.I, rule=lambda model, i: sum(model.P2[i, j] for j in model.J) == 1)\n",
    "model.col_sum_p2 = pyo.Constraint(model.J, rule=lambda model, j: sum(model.P2[i, j] for i in model.I) == 1)\n",
    "\n",
    "# Note: pyomo indexes vary from 1 to N \n",
    "def compute_C(model, i, j):\n",
    "    return sum(A[i-1, k-1] * model.P2[k, j] for k in model.J)\n",
    "model.C = pyo.Expression(model.I, model.J, rule=compute_C)\n",
    "\n",
    "def compute_D(model, i, j):\n",
    "    return sum(model.P1[k, i] * A_perm[k-1, j-1] for k in model.J)\n",
    "model.D = pyo.Expression(model.I, model.J, rule=compute_D)\n",
    "\n",
    "# Constraint: C <= D\n",
    "model.c1 = pyo.Constraint(model.I, model.J, rule=lambda model, i, j: model.C[i, j] <= model.D[i, j])\n",
    "# Constraint: C >= D\n",
    "model.c2 = pyo.Constraint(model.I, model.J, rule=lambda model, i, j: model.C[i, j] >= model.D[i, j])\n",
    "\n",
    "model.obj = pyo.Objective(expr=0, sense=pyo.minimize)"
   ]
  },
  {
   "cell_type": "code",
   "execution_count": 9,
   "id": "878fb70e-f71a-4bd9-8b3f-c9e5084556d8",
   "metadata": {
    "execution": {
     "iopub.execute_input": "2025-04-14T18:30:50.636949Z",
     "iopub.status.busy": "2025-04-14T18:30:50.636611Z",
     "iopub.status.idle": "2025-04-14T18:30:50.721326Z",
     "shell.execute_reply": "2025-04-14T18:30:50.719000Z",
     "shell.execute_reply.started": "2025-04-14T18:30:50.636922Z"
    }
   },
   "outputs": [
    {
     "data": {
      "text/plain": [
       "{'Problem': [{'Name': 'unknown', 'Lower bound': 0.0, 'Upper bound': 0.0, 'Number of objectives': 1, 'Number of constraints': 30, 'Number of variables': 19, 'Number of nonzeros': 144, 'Sense': 'minimize'}], 'Solver': [{'Status': 'ok', 'Termination condition': 'optimal', 'Statistics': {'Branch and bound': {'Number of bounded subproblems': '1', 'Number of created subproblems': '1'}}, 'Error rc': 0, 'Time': 0.025197505950927734}], 'Solution': [OrderedDict([('number of solutions', 0), ('number of solutions displayed', 0)])]}"
      ]
     },
     "execution_count": 9,
     "metadata": {},
     "output_type": "execute_result"
    }
   ],
   "source": [
    "solver = pyo.SolverFactory(\"glpk\")  # or \"cbc\", \"gurobi\" if available\n",
    "solver.solve(model)"
   ]
  },
  {
   "cell_type": "code",
   "execution_count": 38,
   "id": "3866b881-5335-4245-b8de-aad1622acfec",
   "metadata": {
    "execution": {
     "iopub.execute_input": "2025-04-14T18:36:34.476773Z",
     "iopub.status.busy": "2025-04-14T18:36:34.476184Z",
     "iopub.status.idle": "2025-04-14T18:36:34.482549Z",
     "shell.execute_reply": "2025-04-14T18:36:34.481460Z",
     "shell.execute_reply.started": "2025-04-14T18:36:34.476743Z"
    }
   },
   "outputs": [],
   "source": [
    "def build_matrix(pyomo_matrix):\n",
    "    values = pyomo_matrix.get_values()\n",
    "    pp = np.zeros((dim,dim), dtype=int)\n",
    "    for idx, val in values.items():\n",
    "        i, j = idx[0]-1, idx[1]-1\n",
    "        pp[i,j] = val\n",
    "    return pp"
   ]
  },
  {
   "cell_type": "code",
   "execution_count": 39,
   "id": "9d84f774-44b7-470f-a430-52cfe7444533",
   "metadata": {
    "execution": {
     "iopub.execute_input": "2025-04-14T18:36:42.754055Z",
     "iopub.status.busy": "2025-04-14T18:36:42.753772Z",
     "iopub.status.idle": "2025-04-14T18:36:42.764639Z",
     "shell.execute_reply": "2025-04-14T18:36:42.763286Z",
     "shell.execute_reply.started": "2025-04-14T18:36:42.754029Z"
    }
   },
   "outputs": [
    {
     "data": {
      "text/plain": [
       "array([[0, 1, 0],\n",
       "       [0, 0, 1],\n",
       "       [1, 0, 0]])"
      ]
     },
     "execution_count": 39,
     "metadata": {},
     "output_type": "execute_result"
    }
   ],
   "source": [
    "build_matrix(model.P1)"
   ]
  },
  {
   "cell_type": "code",
   "execution_count": 41,
   "id": "29b256a5-d90d-4fbc-b844-971943c34af1",
   "metadata": {
    "execution": {
     "iopub.execute_input": "2025-04-14T18:36:49.129447Z",
     "iopub.status.busy": "2025-04-14T18:36:49.129086Z",
     "iopub.status.idle": "2025-04-14T18:36:49.137830Z",
     "shell.execute_reply": "2025-04-14T18:36:49.136348Z",
     "shell.execute_reply.started": "2025-04-14T18:36:49.129420Z"
    }
   },
   "outputs": [
    {
     "data": {
      "text/plain": [
       "array([[0, 1, 0],\n",
       "       [0, 0, 1],\n",
       "       [1, 0, 0]])"
      ]
     },
     "execution_count": 41,
     "metadata": {},
     "output_type": "execute_result"
    }
   ],
   "source": [
    "P1"
   ]
  },
  {
   "cell_type": "code",
   "execution_count": 40,
   "id": "d567c8a3-d0ee-4d47-bf85-34e92164f59d",
   "metadata": {
    "execution": {
     "iopub.execute_input": "2025-04-14T18:36:47.215348Z",
     "iopub.status.busy": "2025-04-14T18:36:47.214922Z",
     "iopub.status.idle": "2025-04-14T18:36:47.224277Z",
     "shell.execute_reply": "2025-04-14T18:36:47.223056Z",
     "shell.execute_reply.started": "2025-04-14T18:36:47.215264Z"
    }
   },
   "outputs": [
    {
     "data": {
      "text/plain": [
       "array([[0, 1, 0],\n",
       "       [0, 0, 1],\n",
       "       [1, 0, 0]])"
      ]
     },
     "execution_count": 40,
     "metadata": {},
     "output_type": "execute_result"
    }
   ],
   "source": [
    "build_matrix(model.P2)"
   ]
  },
  {
   "cell_type": "code",
   "execution_count": 42,
   "id": "dce015c2-8f91-4469-97e4-f1164f6d7c60",
   "metadata": {
    "execution": {
     "iopub.execute_input": "2025-04-14T18:36:55.298405Z",
     "iopub.status.busy": "2025-04-14T18:36:55.297996Z",
     "iopub.status.idle": "2025-04-14T18:36:55.306393Z",
     "shell.execute_reply": "2025-04-14T18:36:55.305391Z",
     "shell.execute_reply.started": "2025-04-14T18:36:55.298317Z"
    }
   },
   "outputs": [
    {
     "data": {
      "text/plain": [
       "array([[0, 1, 0],\n",
       "       [0, 0, 1],\n",
       "       [1, 0, 0]])"
      ]
     },
     "execution_count": 42,
     "metadata": {},
     "output_type": "execute_result"
    }
   ],
   "source": [
    "P2"
   ]
  },
  {
   "cell_type": "code",
   "execution_count": null,
   "id": "ee83980a-b1f1-4f92-9619-9524cd9e1596",
   "metadata": {},
   "outputs": [],
   "source": []
  }
 ],
 "metadata": {
  "kernelspec": {
   "display_name": "Python 3 (ipykernel)",
   "language": "python",
   "name": "python3"
  },
  "language_info": {
   "codemirror_mode": {
    "name": "ipython",
    "version": 3
   },
   "file_extension": ".py",
   "mimetype": "text/x-python",
   "name": "python",
   "nbconvert_exporter": "python",
   "pygments_lexer": "ipython3",
   "version": "3.11.11"
  }
 },
 "nbformat": 4,
 "nbformat_minor": 5
}
